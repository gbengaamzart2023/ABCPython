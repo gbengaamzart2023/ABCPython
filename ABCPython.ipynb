{
 "cells": [
  {
   "cell_type": "code",
   "execution_count": 1,
   "id": "6a89ba32",
   "metadata": {},
   "outputs": [
    {
     "name": "stdout",
     "output_type": "stream",
     "text": [
      "five is greater than two!\n"
     ]
    }
   ],
   "source": [
    "if 5 > 2:\n",
    "    print(\"five is greater than two!\")"
   ]
  },
  {
   "cell_type": "code",
   "execution_count": 2,
   "id": "aefea155",
   "metadata": {},
   "outputs": [
    {
     "name": "stdout",
     "output_type": "stream",
     "text": [
      "five is greater than two!\n",
      "five is greater than two!\n"
     ]
    }
   ],
   "source": [
    "if 5 > 2:\n",
    "    print(\"five is greater than two!\")\n",
    "if 5 > 2:\n",
    "         print(\"five is greater than two!\")"
   ]
  },
  {
   "cell_type": "code",
   "execution_count": 3,
   "id": "d0bdf39e",
   "metadata": {},
   "outputs": [
    {
     "name": "stdout",
     "output_type": "stream",
     "text": [
      "5\n",
      "Hello, World\n"
     ]
    }
   ],
   "source": [
    "x = 5\n",
    "y = \"Hello, World\"\n",
    "print(x)\n",
    "print(y)"
   ]
  },
  {
   "cell_type": "code",
   "execution_count": 4,
   "id": "8029a7d6",
   "metadata": {},
   "outputs": [
    {
     "name": "stdout",
     "output_type": "stream",
     "text": [
      "Hello, World\n"
     ]
    }
   ],
   "source": [
    "#this is a comment\n",
    "print(y)"
   ]
  },
  {
   "cell_type": "code",
   "execution_count": 5,
   "id": "8c780b8e",
   "metadata": {},
   "outputs": [
    {
     "name": "stdout",
     "output_type": "stream",
     "text": [
      "Hello, World\n"
     ]
    }
   ],
   "source": [
    "print(\"Hello, World\") #this is a comment"
   ]
  },
  {
   "cell_type": "code",
   "execution_count": 6,
   "id": "8bf16ae5",
   "metadata": {},
   "outputs": [
    {
     "name": "stdout",
     "output_type": "stream",
     "text": [
      "Amzart, Gbenga\n"
     ]
    }
   ],
   "source": [
    "#print(\"Hello, World\")\n",
    "print(\"Amzart, Gbenga\")"
   ]
  },
  {
   "cell_type": "code",
   "execution_count": 7,
   "id": "67d823f1",
   "metadata": {},
   "outputs": [
    {
     "name": "stdout",
     "output_type": "stream",
     "text": [
      "5\n"
     ]
    }
   ],
   "source": [
    "#this is a\n",
    "#multiline \n",
    "#comment from\n",
    "#Fort_Lauderdale\n",
    "print(x)"
   ]
  },
  {
   "cell_type": "code",
   "execution_count": 8,
   "id": "195be5f3",
   "metadata": {},
   "outputs": [
    {
     "name": "stdout",
     "output_type": "stream",
     "text": [
      "Chuck_Norris\n"
     ]
    }
   ],
   "source": [
    "\"\"\"this comment is\n",
    "not   meant to be\n",
    "here but in a\n",
    "seperate file\"\"\"\n",
    "print(\"Chuck_Norris\")"
   ]
  },
  {
   "cell_type": "code",
   "execution_count": 9,
   "id": "1db6586b",
   "metadata": {},
   "outputs": [
    {
     "name": "stdout",
     "output_type": "stream",
     "text": [
      "5\n",
      "Timon\n"
     ]
    }
   ],
   "source": [
    "x = 5\n",
    "y = \"Timon\"\n",
    "print(x)\n",
    "print(y)"
   ]
  },
  {
   "cell_type": "code",
   "execution_count": 10,
   "id": "1a75ea72",
   "metadata": {},
   "outputs": [
    {
     "name": "stdout",
     "output_type": "stream",
     "text": [
      "7\n",
      "Amazing Spiderman\n"
     ]
    }
   ],
   "source": [
    "f = 7 #not sure it is a number or int\n",
    "g = \"Amazing Spiderman\" #surely a str and not a title\n",
    "print(f)\n",
    "print(g)"
   ]
  },
  {
   "cell_type": "code",
   "execution_count": 11,
   "id": "ec4bccad",
   "metadata": {},
   "outputs": [
    {
     "name": "stdout",
     "output_type": "stream",
     "text": [
      "3\n",
      "3\n",
      "3.0\n"
     ]
    }
   ],
   "source": [
    "x = str(\"3\") # x will be \"3\"\n",
    "y = int(3) #  x will be 3\n",
    "z = float(3) # x will be 3.0\n",
    "print(x)\n",
    "print(y)\n",
    "print(z)"
   ]
  },
  {
   "cell_type": "code",
   "execution_count": 12,
   "id": "730e7ec2",
   "metadata": {},
   "outputs": [
    {
     "name": "stdout",
     "output_type": "stream",
     "text": [
      "3\n",
      "3\n",
      "3.0\n"
     ]
    }
   ],
   "source": [
    "x = str(3)    # x will be '3'\n",
    "y = int(3)    # y will be 3\n",
    "z = float(3)  # z will be 3.0\n",
    "print(x)\n",
    "print(y)\n",
    "print(z)"
   ]
  },
  {
   "cell_type": "code",
   "execution_count": 13,
   "id": "dffbf5aa",
   "metadata": {},
   "outputs": [
    {
     "name": "stdout",
     "output_type": "stream",
     "text": [
      "<class 'int'>\n",
      "<class 'str'>\n",
      "<class 'float'>\n"
     ]
    }
   ],
   "source": [
    "a = 7\n",
    "b = \"Jose\"\n",
    "c = 3.9\n",
    "print(type(a))\n",
    "print(type(b))\n",
    "print(type(c))"
   ]
  },
  {
   "cell_type": "code",
   "execution_count": 14,
   "id": "40a9ff6b",
   "metadata": {},
   "outputs": [
    {
     "name": "stdout",
     "output_type": "stream",
     "text": [
      "Judith\n"
     ]
    }
   ],
   "source": [
    "x = \"Judith\"\n",
    "# is the same as\n",
    "x = 'Judith'\n",
    "print(x)"
   ]
  },
  {
   "cell_type": "code",
   "execution_count": 15,
   "id": "f01a1576",
   "metadata": {},
   "outputs": [
    {
     "name": "stdout",
     "output_type": "stream",
     "text": [
      "Jeremih\n"
     ]
    }
   ],
   "source": [
    "a = 4\n",
    "A = \"Jeremih\"\n",
    "# A will not overide a\n",
    "print(A)"
   ]
  },
  {
   "cell_type": "code",
   "execution_count": 16,
   "id": "d76162c0",
   "metadata": {},
   "outputs": [
    {
     "name": "stdout",
     "output_type": "stream",
     "text": [
      "4\n"
     ]
    }
   ],
   "source": [
    "print(a)"
   ]
  },
  {
   "cell_type": "code",
   "execution_count": 17,
   "id": "11dbac58",
   "metadata": {},
   "outputs": [
    {
     "name": "stdout",
     "output_type": "stream",
     "text": [
      "gas\n",
      "liquid\n",
      "solid\n"
     ]
    }
   ],
   "source": [
    "a,b,c = 'gas', 'liquid', 'solid'\n",
    "print(a)\n",
    "print(b)\n",
    "print(c)"
   ]
  },
  {
   "cell_type": "code",
   "execution_count": 18,
   "id": "79dd0934",
   "metadata": {},
   "outputs": [
    {
     "name": "stdout",
     "output_type": "stream",
     "text": [
      "Sprite\n",
      "Sprite\n",
      "Sprite\n"
     ]
    }
   ],
   "source": [
    "x = y = z = 'Sprite'\n",
    "print(x)\n",
    "print(y)\n",
    "print(z)"
   ]
  },
  {
   "cell_type": "code",
   "execution_count": 19,
   "id": "6ecd3896",
   "metadata": {},
   "outputs": [
    {
     "name": "stdout",
     "output_type": "stream",
     "text": [
      "GMC\n",
      "Mazda\n",
      "Toyota\n"
     ]
    }
   ],
   "source": [
    "carname = \"GMC\", \"Mazda\", \"Toyota\"\n",
    "a, b, c = carname\n",
    "print(a)\n",
    "print(b)\n",
    "print(c)"
   ]
  },
  {
   "cell_type": "code",
   "execution_count": 20,
   "id": "7d1a8af5",
   "metadata": {},
   "outputs": [
    {
     "name": "stdout",
     "output_type": "stream",
     "text": [
      "Python is awesome\n"
     ]
    }
   ],
   "source": [
    "v = \"Python is awesome\"\n",
    "print(v)"
   ]
  },
  {
   "cell_type": "code",
   "execution_count": 21,
   "id": "1f3fd548",
   "metadata": {},
   "outputs": [
    {
     "name": "stdout",
     "output_type": "stream",
     "text": [
      "Sprite Sprite Sprite\n"
     ]
    }
   ],
   "source": [
    "a = \"Python\"\n",
    "b = \"is\"\n",
    "c = \"awesome\"\n",
    "print(x, y, z)"
   ]
  },
  {
   "cell_type": "code",
   "execution_count": 22,
   "id": "98bc2865",
   "metadata": {},
   "outputs": [
    {
     "name": "stdout",
     "output_type": "stream",
     "text": [
      "Python is awesome\n"
     ]
    }
   ],
   "source": [
    "print(a, b, c)"
   ]
  },
  {
   "cell_type": "code",
   "execution_count": 23,
   "id": "48eb2654",
   "metadata": {},
   "outputs": [
    {
     "name": "stdout",
     "output_type": "stream",
     "text": [
      "Pythonisawesome\n"
     ]
    }
   ],
   "source": [
    "print(a + b + c)"
   ]
  },
  {
   "cell_type": "code",
   "execution_count": 24,
   "id": "a80fa467",
   "metadata": {},
   "outputs": [
    {
     "name": "stdout",
     "output_type": "stream",
     "text": [
      "20\n"
     ]
    }
   ],
   "source": [
    "f = 5\n",
    "b = 15\n",
    "print(5 + 15)"
   ]
  },
  {
   "cell_type": "code",
   "execution_count": 25,
   "id": "c8558d83",
   "metadata": {},
   "outputs": [
    {
     "name": "stdout",
     "output_type": "stream",
     "text": [
      "5 Guy\n"
     ]
    }
   ],
   "source": [
    "f = 5\n",
    "d = \"Guy\"\n",
    "print(f, d)"
   ]
  },
  {
   "cell_type": "code",
   "execution_count": 26,
   "id": "0a1bff91",
   "metadata": {},
   "outputs": [
    {
     "name": "stdout",
     "output_type": "stream",
     "text": [
      "Python is awesome\n"
     ]
    }
   ],
   "source": [
    "v = \"awesome\"\n",
    "\n",
    "def myfunc():\n",
    "    print(\"Python is \" + v)\n",
    "\n",
    "myfunc()"
   ]
  },
  {
   "cell_type": "code",
   "execution_count": 27,
   "id": "95014bc9",
   "metadata": {},
   "outputs": [
    {
     "name": "stdout",
     "output_type": "stream",
     "text": [
      "Python is awesome\n"
     ]
    }
   ],
   "source": [
    "x = \"awesome\"\n",
    "\n",
    "def myfunc():\n",
    "  print(\"Python is \" + x)\n",
    "\n",
    "myfunc()"
   ]
  },
  {
   "cell_type": "code",
   "execution_count": 28,
   "id": "c70baa9c",
   "metadata": {},
   "outputs": [
    {
     "name": "stdout",
     "output_type": "stream",
     "text": [
      "Python is fantastic\n",
      "Python is awesome\n"
     ]
    }
   ],
   "source": [
    "x = \"awesome\"\n",
    "\n",
    "def myfunc():\n",
    "  x = \"fantastic\"\n",
    "  print(\"Python is \" + x)\n",
    "\n",
    "myfunc()\n",
    "\n",
    "print(\"Python is \" + x)"
   ]
  },
  {
   "cell_type": "code",
   "execution_count": 29,
   "id": "e3a656df",
   "metadata": {},
   "outputs": [
    {
     "name": "stdout",
     "output_type": "stream",
     "text": [
      "Python is delirious\n",
      "Python is awesome\n"
     ]
    }
   ],
   "source": [
    "c = \"awesome\"\n",
    "\n",
    "def myfunc():\n",
    "    c = \"delirious\"\n",
    "    print(\"Python is \" + c)\n",
    "    \n",
    "myfunc()\n",
    "\n",
    "print(\"Python is \" + c)"
   ]
  },
  {
   "cell_type": "code",
   "execution_count": 30,
   "id": "d48b6d11",
   "metadata": {},
   "outputs": [
    {
     "name": "stdout",
     "output_type": "stream",
     "text": [
      "Python is brillant\n",
      "Python is sensational\n"
     ]
    }
   ],
   "source": [
    "v = \"sensational\"\n",
    "\n",
    "def myfunc():\n",
    "    v = \"brillant\"\n",
    "    print(\"Python is \" + v)\n",
    "\n",
    "myfunc()\n",
    "\n",
    "print(\"Python is \" + v)"
   ]
  },
  {
   "cell_type": "code",
   "execution_count": 31,
   "id": "572a859a",
   "metadata": {},
   "outputs": [
    {
     "name": "stdout",
     "output_type": "stream",
     "text": [
      "Python is lavish\n"
     ]
    }
   ],
   "source": [
    "def myfunc():\n",
    "    global x\n",
    "    x =  \"lavish\"\n",
    "    \n",
    "myfunc()\n",
    "\n",
    "print(\"Python is \" + x)"
   ]
  },
  {
   "cell_type": "code",
   "execution_count": 32,
   "id": "294b1700",
   "metadata": {},
   "outputs": [
    {
     "name": "stdout",
     "output_type": "stream",
     "text": [
      "Aston Martin\n",
      "Lamborgini Diablo\n",
      "Ford GT\n",
      "Jaguar F-type\n",
      "Nissan GT-R\n",
      "McLaren Auto\n"
     ]
    }
   ],
   "source": [
    "carname = \"Aston Martin\", \"Lamborgini Diablo\", \"Ford GT\", \"Jaguar F-type\", \"Nissan GT-R\", \"McLaren Auto\"\n",
    "a, b, c, d, e, f = carname\n",
    "print(a)\n",
    "print(b)\n",
    "print(c)\n",
    "print(d)\n",
    "print(e)\n",
    "print(f)"
   ]
  },
  {
   "cell_type": "code",
   "execution_count": 33,
   "id": "22a5e9dd",
   "metadata": {},
   "outputs": [
    {
     "name": "stdout",
     "output_type": "stream",
     "text": [
      "Aston Martin Lamborgini Diablo Ford GT Jaguar F-type Nissan GT-R McLaren Auto\n"
     ]
    }
   ],
   "source": [
    "print(a, b, c, d, e, f)"
   ]
  },
  {
   "cell_type": "code",
   "execution_count": 34,
   "id": "5166c6d3",
   "metadata": {},
   "outputs": [
    {
     "name": "stdout",
     "output_type": "stream",
     "text": [
      "<class 'tuple'>\n"
     ]
    }
   ],
   "source": [
    "print(type(carname))"
   ]
  },
  {
   "cell_type": "code",
   "execution_count": 35,
   "id": "bdb5c8f7",
   "metadata": {},
   "outputs": [
    {
     "name": "stdout",
     "output_type": "stream",
     "text": [
      "range(0, 4)\n"
     ]
    }
   ],
   "source": [
    "print(range(4))"
   ]
  },
  {
   "cell_type": "code",
   "execution_count": 36,
   "id": "cdc0277e",
   "metadata": {},
   "outputs": [
    {
     "data": {
      "text/plain": [
       "['apple', 'banana', 'cherry']"
      ]
     },
     "execution_count": 36,
     "metadata": {},
     "output_type": "execute_result"
    }
   ],
   "source": [
    "list((\"apple\", \"banana\", \"cherry\"))"
   ]
  },
  {
   "cell_type": "code",
   "execution_count": 37,
   "id": "79c36bd1",
   "metadata": {},
   "outputs": [
    {
     "data": {
      "text/plain": [
       "('apple', 'banana', 'cherry')"
      ]
     },
     "execution_count": 37,
     "metadata": {},
     "output_type": "execute_result"
    }
   ],
   "source": [
    "tuple((\"apple\", \"banana\", \"cherry\"))"
   ]
  },
  {
   "cell_type": "code",
   "execution_count": 38,
   "id": "54435379",
   "metadata": {},
   "outputs": [
    {
     "data": {
      "text/plain": [
       "frozenset({'apple', 'banana', 'cherry'})"
      ]
     },
     "execution_count": 38,
     "metadata": {},
     "output_type": "execute_result"
    }
   ],
   "source": [
    "frozenset((\"apple\", \"banana\", \"cherry\"))"
   ]
  },
  {
   "cell_type": "code",
   "execution_count": 39,
   "id": "16a9481d",
   "metadata": {},
   "outputs": [
    {
     "data": {
      "text/plain": [
       "{'name': 'John', 'age': 36}"
      ]
     },
     "execution_count": 39,
     "metadata": {},
     "output_type": "execute_result"
    }
   ],
   "source": [
    "dict(name=\"John\", age=36)"
   ]
  },
  {
   "cell_type": "code",
   "execution_count": 40,
   "id": "57688f16",
   "metadata": {},
   "outputs": [
    {
     "data": {
      "text/plain": [
       "b'Hello'"
      ]
     },
     "execution_count": 40,
     "metadata": {},
     "output_type": "execute_result"
    }
   ],
   "source": [
    "b\"Hello\""
   ]
  },
  {
   "cell_type": "code",
   "execution_count": 41,
   "id": "76c69078",
   "metadata": {},
   "outputs": [
    {
     "name": "stdout",
     "output_type": "stream",
     "text": [
      "('fiend',)\n",
      "<class 'tuple'>\n"
     ]
    }
   ],
   "source": [
    "g = ('fiend', )\n",
    "print(g)\n",
    "print(type(g))"
   ]
  },
  {
   "cell_type": "code",
   "execution_count": 42,
   "id": "fd89da68",
   "metadata": {},
   "outputs": [
    {
     "name": "stdout",
     "output_type": "stream",
     "text": [
      "fiend\n",
      "<class 'str'>\n"
     ]
    }
   ],
   "source": [
    "g = ('fiend')\n",
    "print(g)\n",
    "print(type(g))"
   ]
  },
  {
   "cell_type": "code",
   "execution_count": 43,
   "id": "63ae94fe",
   "metadata": {},
   "outputs": [
    {
     "data": {
      "text/plain": [
       "bytearray(b'\\x00\\x00\\x00\\x00\\x00')"
      ]
     },
     "execution_count": 43,
     "metadata": {},
     "output_type": "execute_result"
    }
   ],
   "source": [
    "bytearray(5)"
   ]
  },
  {
   "cell_type": "code",
   "execution_count": 44,
   "id": "40ea25ed",
   "metadata": {},
   "outputs": [
    {
     "data": {
      "text/plain": [
       "<memory at 0x000001918843FA00>"
      ]
     },
     "execution_count": 44,
     "metadata": {},
     "output_type": "execute_result"
    }
   ],
   "source": [
    "memoryview(bytes(5))"
   ]
  },
  {
   "cell_type": "code",
   "execution_count": 45,
   "id": "1a14d50a",
   "metadata": {},
   "outputs": [
    {
     "name": "stdout",
     "output_type": "stream",
     "text": [
      "<class 'int'>\n",
      "<class 'float'>\n",
      "<class 'complex'>\n"
     ]
    }
   ],
   "source": [
    "x = 1    \n",
    "y = 2.8 \n",
    "z = 1j   \n",
    "print(type(x))\n",
    "print(type(y))\n",
    "print(type(z))"
   ]
  },
  {
   "cell_type": "code",
   "execution_count": 46,
   "id": "3d753ba8",
   "metadata": {},
   "outputs": [
    {
     "name": "stdout",
     "output_type": "stream",
     "text": [
      "<class 'int'>\n",
      "<class 'int'>\n",
      "<class 'int'>\n"
     ]
    }
   ],
   "source": [
    "x = 9\n",
    "y = 876543\n",
    "z = -34567\n",
    "print(type(x))\n",
    "print(type(y))\n",
    "print(type(z))"
   ]
  },
  {
   "cell_type": "code",
   "execution_count": 47,
   "id": "32681ecd",
   "metadata": {},
   "outputs": [
    {
     "name": "stdout",
     "output_type": "stream",
     "text": [
      "<class 'float'>\n",
      "<class 'float'>\n",
      "<class 'float'>\n"
     ]
    }
   ],
   "source": [
    "x = 1.4\n",
    "y = 54.34565\n",
    "z = -0.76556\n",
    "print(type(x))\n",
    "print(type(y))\n",
    "print(type(z))"
   ]
  },
  {
   "cell_type": "code",
   "execution_count": 48,
   "id": "ba91f057",
   "metadata": {},
   "outputs": [
    {
     "name": "stdout",
     "output_type": "stream",
     "text": [
      "<class 'float'>\n",
      "<class 'float'>\n",
      "<class 'float'>\n"
     ]
    }
   ],
   "source": [
    "x = 35e3\n",
    "y = 12E4\n",
    "z = -87.7e100\n",
    "\n",
    "print(type(x))\n",
    "print(type(y))\n",
    "print(type(z))"
   ]
  },
  {
   "cell_type": "code",
   "execution_count": 49,
   "id": "ee18e281",
   "metadata": {},
   "outputs": [
    {
     "name": "stdout",
     "output_type": "stream",
     "text": [
      "35000.0\n",
      "120000.0\n",
      "-8.77e+101\n"
     ]
    }
   ],
   "source": [
    "x = 35e3\n",
    "y = 12E4\n",
    "z = -87.7e100\n",
    "\n",
    "print(x)\n",
    "print(y)\n",
    "print(z)"
   ]
  },
  {
   "cell_type": "code",
   "execution_count": 50,
   "id": "0462ba9f",
   "metadata": {},
   "outputs": [
    {
     "name": "stdout",
     "output_type": "stream",
     "text": [
      "<class 'complex'>\n",
      "<class 'complex'>\n",
      "<class 'complex'>\n"
     ]
    }
   ],
   "source": [
    "x = 3+5j\n",
    "y = 5j\n",
    "z = -5j\n",
    "\n",
    "print(type(x))\n",
    "print(type(y))\n",
    "print(type(z))"
   ]
  },
  {
   "cell_type": "code",
   "execution_count": 51,
   "id": "d78b211c",
   "metadata": {},
   "outputs": [
    {
     "name": "stdout",
     "output_type": "stream",
     "text": [
      "(3+5j)\n",
      "7j\n",
      "(-0-8j)\n"
     ]
    }
   ],
   "source": [
    "x = 3+5j\n",
    "y = 7j\n",
    "z = -8j\n",
    "print(x)\n",
    "print(y)\n",
    "print(z)"
   ]
  },
  {
   "cell_type": "code",
   "execution_count": 52,
   "id": "129b31b5",
   "metadata": {},
   "outputs": [
    {
     "name": "stdout",
     "output_type": "stream",
     "text": [
      "0\n",
      "7.0\n",
      "(7+0j)\n"
     ]
    }
   ],
   "source": [
    "x = 7\n",
    "y = 0.9\n",
    "z = -7j\n",
    "a = int(y)\n",
    "b = float(x)\n",
    "c = complex(x)\n",
    "print(a)\n",
    "print(b)\n",
    "print(c)"
   ]
  },
  {
   "cell_type": "code",
   "execution_count": 53,
   "id": "610e6faa",
   "metadata": {},
   "outputs": [
    {
     "name": "stdout",
     "output_type": "stream",
     "text": [
      "5\n"
     ]
    }
   ],
   "source": [
    "import random\n",
    "\n",
    "print(random.randrange(1, 10))"
   ]
  },
  {
   "cell_type": "code",
   "execution_count": 54,
   "id": "89c1aa67",
   "metadata": {},
   "outputs": [
    {
     "name": "stdout",
     "output_type": "stream",
     "text": [
      "31\n"
     ]
    }
   ],
   "source": [
    "import random\n",
    "print(random.randrange(1, 40))"
   ]
  },
  {
   "cell_type": "code",
   "execution_count": 55,
   "id": "ab95f625",
   "metadata": {},
   "outputs": [
    {
     "name": "stdout",
     "output_type": "stream",
     "text": [
      "5.0\n"
     ]
    }
   ],
   "source": [
    "v = 5\n",
    "v = float(v)\n",
    "print(v)"
   ]
  },
  {
   "cell_type": "code",
   "execution_count": 56,
   "id": "cfdf07e6",
   "metadata": {},
   "outputs": [
    {
     "name": "stdout",
     "output_type": "stream",
     "text": [
      "9\n",
      "9.9\n",
      "999\n",
      "9\n",
      "9.0\n",
      "9.0\n",
      "9.0\n",
      "9.0\n",
      "9.0\n"
     ]
    }
   ],
   "source": [
    "a = 9\n",
    "b = 9.9\n",
    "c = '999'\n",
    "print(a)\n",
    "print(b)\n",
    "print(c)\n",
    "\n",
    "a = int(b)\n",
    "b = float(a)\n",
    "c = str(b)\n",
    "print(a)\n",
    "print(b)\n",
    "print(c)\n",
    "\n",
    "a = float(c)\n",
    "b = float(a)\n",
    "c = str(b)\n",
    "print(a)\n",
    "print(b)\n",
    "print(c)"
   ]
  },
  {
   "cell_type": "code",
   "execution_count": 57,
   "id": "4c55877b",
   "metadata": {},
   "outputs": [
    {
     "name": "stdout",
     "output_type": "stream",
     "text": [
      "Lorem ipsum dolor sit amet,\n",
      "consectetur adipiscing elit,\n",
      "sed do eiusmod tempor incididunt\n",
      "ut labore et dolore magna aliqua.\n"
     ]
    }
   ],
   "source": [
    "a = \"\"\"Lorem ipsum dolor sit amet,\n",
    "consectetur adipiscing elit,\n",
    "sed do eiusmod tempor incididunt\n",
    "ut labore et dolore magna aliqua.\"\"\"\n",
    "print(a)"
   ]
  },
  {
   "cell_type": "code",
   "execution_count": 58,
   "id": "3e7aab77",
   "metadata": {},
   "outputs": [
    {
     "name": "stdout",
     "output_type": "stream",
     "text": [
      "e\n",
      "r\n"
     ]
    }
   ],
   "source": [
    "a = \"Hello, World\"\n",
    "print(a[1])\n",
    "print(a[9])"
   ]
  },
  {
   "cell_type": "code",
   "execution_count": 59,
   "id": "c9db9cb6",
   "metadata": {},
   "outputs": [
    {
     "name": "stdout",
     "output_type": "stream",
     "text": [
      "g\n",
      "r\n",
      "e\n",
      "n\n",
      "a\n",
      "d\n",
      "a\n"
     ]
    }
   ],
   "source": [
    "for v in \"grenada\":\n",
    "    print(v)"
   ]
  },
  {
   "cell_type": "code",
   "execution_count": 60,
   "id": "a9fb604a",
   "metadata": {},
   "outputs": [
    {
     "name": "stdout",
     "output_type": "stream",
     "text": [
      "12\n"
     ]
    }
   ],
   "source": [
    "print(len(a))"
   ]
  },
  {
   "cell_type": "code",
   "execution_count": 61,
   "id": "c6b58744",
   "metadata": {},
   "outputs": [
    {
     "name": "stdout",
     "output_type": "stream",
     "text": [
      "True\n"
     ]
    }
   ],
   "source": [
    "txt = \"the world is a beautiful place\"\n",
    "print(\"place\" in txt)"
   ]
  },
  {
   "cell_type": "code",
   "execution_count": 62,
   "id": "c9dd4b4c",
   "metadata": {},
   "outputs": [
    {
     "name": "stdout",
     "output_type": "stream",
     "text": [
      "yes 'world' is present.\n"
     ]
    }
   ],
   "source": [
    "if \"world\" in txt:\n",
    "    print(\"yes 'world' is present.\")"
   ]
  },
  {
   "cell_type": "code",
   "execution_count": 63,
   "id": "d37440a7",
   "metadata": {},
   "outputs": [
    {
     "name": "stdout",
     "output_type": "stream",
     "text": [
      "yes,  'rule' is present.\n",
      "no, 'lead' is absent.\n"
     ]
    }
   ],
   "source": [
    "txt = \"if i rule  the  world.\"\n",
    "if 'rule' in txt:\n",
    "    print(\"yes,  'rule' is present.\")\n",
    "else:\n",
    "    print(\"no, 'rule' is absent.\")\n",
    "if 'lead' in txt:\n",
    "    print(\"yes, 'lead' is present.\")\n",
    "else:\n",
    "    print(\"no, 'lead' is absent.\")"
   ]
  },
  {
   "cell_type": "code",
   "execution_count": 64,
   "id": "5971ea97",
   "metadata": {},
   "outputs": [
    {
     "name": "stdout",
     "output_type": "stream",
     "text": [
      "llo, Wo\n"
     ]
    }
   ],
   "source": [
    "print(a[2:9])"
   ]
  },
  {
   "cell_type": "code",
   "execution_count": 65,
   "id": "b2a49f8b",
   "metadata": {},
   "outputs": [
    {
     "name": "stdout",
     "output_type": "stream",
     "text": [
      "hello, world\n"
     ]
    }
   ],
   "source": [
    "print(a.lower())"
   ]
  },
  {
   "cell_type": "code",
   "execution_count": 66,
   "id": "0a2809d0",
   "metadata": {},
   "outputs": [
    {
     "name": "stdout",
     "output_type": "stream",
     "text": [
      "Hello, World\n"
     ]
    }
   ],
   "source": [
    "print(a.strip())"
   ]
  },
  {
   "cell_type": "code",
   "execution_count": 67,
   "id": "e70ec5c3",
   "metadata": {},
   "outputs": [
    {
     "name": "stdout",
     "output_type": "stream",
     "text": [
      "Yello, World\n"
     ]
    }
   ],
   "source": [
    "print(a.replace(\"H\", \"Y\"))"
   ]
  },
  {
   "cell_type": "code",
   "execution_count": 68,
   "id": "7c23ec2a",
   "metadata": {},
   "outputs": [
    {
     "name": "stdout",
     "output_type": "stream",
     "text": [
      "['Hello', ' World!']\n"
     ]
    }
   ],
   "source": [
    "a = \"Hello, World!\"\n",
    "print(a.split(\",\")) # returns ['Hello', ' World!']"
   ]
  },
  {
   "cell_type": "code",
   "execution_count": 69,
   "id": "347cfd32",
   "metadata": {},
   "outputs": [
    {
     "name": "stdout",
     "output_type": "stream",
     "text": [
      "['spice-girls!']\n"
     ]
    }
   ],
   "source": [
    "T = \"spice-girls!\"\n",
    "print(T.split(\",\"))"
   ]
  },
  {
   "cell_type": "code",
   "execution_count": 70,
   "id": "7c7cd991",
   "metadata": {},
   "outputs": [
    {
     "name": "stdout",
     "output_type": "stream",
     "text": [
      "spice girls\n"
     ]
    }
   ],
   "source": [
    "a = \"spice\"\n",
    "b = \"girls\"\n",
    "c = a + \" \" + b\n",
    "print(c)"
   ]
  },
  {
   "cell_type": "code",
   "execution_count": 71,
   "id": "4f348af6",
   "metadata": {},
   "outputs": [
    {
     "name": "stdout",
     "output_type": "stream",
     "text": [
      "My name is John, I am 36\n"
     ]
    }
   ],
   "source": [
    "age = 36\n",
    "txt = \"My name is John, I am {}\"\n",
    "print(txt.format(age))"
   ]
  },
  {
   "cell_type": "code",
   "execution_count": 72,
   "id": "17f51579",
   "metadata": {},
   "outputs": [
    {
     "name": "stdout",
     "output_type": "stream",
     "text": [
      "My name is Snoop, I am 56\n"
     ]
    }
   ],
   "source": [
    "age = 56\n",
    "txt = \"My name is Snoop, I am {}\"\n",
    "print(txt.format(age))"
   ]
  },
  {
   "cell_type": "code",
   "execution_count": 73,
   "id": "16e0a7c9",
   "metadata": {},
   "outputs": [
    {
     "name": "stdout",
     "output_type": "stream",
     "text": [
      "i bought 5 pairs of Jordans for 84.99 dollars\n"
     ]
    }
   ],
   "source": [
    "quantity = 5\n",
    "brand = \"Jordans\"\n",
    "price = 84.99\n",
    "purchase  = \"i bought {} pairs of {} for {} dollars\"\n",
    "print(purchase.format(quantity,  brand, price))"
   ]
  },
  {
   "cell_type": "code",
   "execution_count": 74,
   "id": "ef76c956",
   "metadata": {},
   "outputs": [
    {
     "name": "stdout",
     "output_type": "stream",
     "text": [
      "We are the 'Vikings' from  the North\n"
     ]
    }
   ],
   "source": [
    "Txt = \"We are the 'Vikings' from  the North\"\n",
    "print(Txt)"
   ]
  },
  {
   "cell_type": "code",
   "execution_count": 75,
   "id": "f97dc1a3",
   "metadata": {},
   "outputs": [
    {
     "name": "stdout",
     "output_type": "stream",
     "text": [
      "hello, world!\n"
     ]
    }
   ],
   "source": [
    "a = \"Hello, World!\"\n",
    "print(a.lower())"
   ]
  },
  {
   "cell_type": "code",
   "execution_count": 76,
   "id": "2eb4338d",
   "metadata": {},
   "outputs": [
    {
     "name": "stdout",
     "output_type": "stream",
     "text": [
      "HELLO, WORLD!\n"
     ]
    }
   ],
   "source": [
    "print(a.upper())"
   ]
  },
  {
   "cell_type": "code",
   "execution_count": 77,
   "id": "1105fdc8",
   "metadata": {},
   "outputs": [
    {
     "name": "stdout",
     "output_type": "stream",
     "text": [
      "hello, world!\n"
     ]
    }
   ],
   "source": [
    "print(a.lower())"
   ]
  },
  {
   "cell_type": "code",
   "execution_count": 78,
   "id": "7c04c707",
   "metadata": {},
   "outputs": [
    {
     "name": "stdout",
     "output_type": "stream",
     "text": [
      "Hello, World\n"
     ]
    }
   ],
   "source": [
    "a = \"  Hello, World  \"\n",
    "print(a.strip())"
   ]
  },
  {
   "cell_type": "code",
   "execution_count": 79,
   "id": "80f4c98f",
   "metadata": {},
   "outputs": [
    {
     "name": "stdout",
     "output_type": "stream",
     "text": [
      "  Yello, World  \n"
     ]
    }
   ],
   "source": [
    "print(a.replace(\"H\", \"Y\"))"
   ]
  },
  {
   "cell_type": "code",
   "execution_count": 80,
   "id": "ac3ff51a",
   "metadata": {},
   "outputs": [
    {
     "name": "stdout",
     "output_type": "stream",
     "text": [
      "['  Hello', ' World  ']\n"
     ]
    }
   ],
   "source": [
    "print(a.split(\",\"))"
   ]
  },
  {
   "cell_type": "code",
   "execution_count": 81,
   "id": "75a3c46e",
   "metadata": {},
   "outputs": [
    {
     "name": "stdout",
     "output_type": "stream",
     "text": [
      "Roscoe Jenkins\n"
     ]
    }
   ],
   "source": [
    "k = \"Roscoe\"\n",
    "l = \"Jenkins\"\n",
    "m = k +\" \"+ l\n",
    "print(m)"
   ]
  },
  {
   "cell_type": "code",
   "execution_count": 82,
   "id": "b61f22ce",
   "metadata": {},
   "outputs": [
    {
     "name": "stdout",
     "output_type": "stream",
     "text": [
      "My Jordans cost $99\n",
      "My Jordans cost ${}\n"
     ]
    }
   ],
   "source": [
    "price =  99\n",
    "txt = \"My Jordans cost ${}\"\n",
    "print(txt.format(price))\n",
    "print(txt)"
   ]
  },
  {
   "cell_type": "code",
   "execution_count": 83,
   "id": "1920cad6",
   "metadata": {},
   "outputs": [
    {
     "name": "stdout",
     "output_type": "stream",
     "text": [
      "I ordered 4 pairs of Jordans for 99 dollars each\n"
     ]
    }
   ],
   "source": [
    "quantity = 4\n",
    "brand = \"Jordans\"\n",
    "price = 99\n",
    "txt = \"I ordered {} pairs of {} for {} dollars each\"\n",
    "print(txt.format(quantity, brand, price))"
   ]
  },
  {
   "cell_type": "code",
   "execution_count": 84,
   "id": "49fd0ae2",
   "metadata": {},
   "outputs": [
    {
     "name": "stdout",
     "output_type": "stream",
     "text": [
      "Spartans,  What's your \"occupation\"? Louder!\n"
     ]
    }
   ],
   "source": [
    "txt = \"Spartans,  What's your \\\"occupation\\\"? Louder!\"\n",
    "print(txt)"
   ]
  },
  {
   "cell_type": "code",
   "execution_count": 85,
   "id": "e31927ef",
   "metadata": {},
   "outputs": [
    {
     "name": "stdout",
     "output_type": "stream",
     "text": [
      "spartans,  what's your \"occupation\"? louder!\n",
      "SPARTANS,  WHAT'S YOUR \"OCCUPATION\"? LOUDER!\n",
      "Spartans,  what's your \"occupation\"? louder!\n",
      "spartans,  what's your \"occupation\"? louder!\n",
      "b'Spartans,  What\\'s your \"occupation\"? Louder!'\n",
      "1\n",
      "False\n"
     ]
    },
    {
     "ename": "TypeError",
     "evalue": "index() takes at least 1 argument (0 given)",
     "output_type": "error",
     "traceback": [
      "\u001b[1;31m---------------------------------------------------------------------------\u001b[0m",
      "\u001b[1;31mTypeError\u001b[0m                                 Traceback (most recent call last)",
      "Cell \u001b[1;32mIn[85], line 8\u001b[0m\n\u001b[0;32m      6\u001b[0m \u001b[38;5;28mprint\u001b[39m(txt\u001b[38;5;241m.\u001b[39mcount(\u001b[38;5;124m\"\u001b[39m\u001b[38;5;124moccupation\u001b[39m\u001b[38;5;124m\"\u001b[39m))\n\u001b[0;32m      7\u001b[0m \u001b[38;5;28mprint\u001b[39m(txt\u001b[38;5;241m.\u001b[39misalpha())\n\u001b[1;32m----> 8\u001b[0m \u001b[38;5;28mprint\u001b[39m(\u001b[43mtxt\u001b[49m\u001b[38;5;241;43m.\u001b[39;49m\u001b[43mindex\u001b[49m\u001b[43m(\u001b[49m\u001b[43m)\u001b[49m)\n\u001b[0;32m      9\u001b[0m \u001b[38;5;28mprint\u001b[39m(txt\u001b[38;5;241m.\u001b[39mendswith(\u001b[38;5;124m'\u001b[39m\u001b[38;5;124myour\u001b[39m\u001b[38;5;124m'\u001b[39m))\n\u001b[0;32m     10\u001b[0m \u001b[38;5;28mprint\u001b[39m(txt\u001b[38;5;241m.\u001b[39mislower())\n",
      "\u001b[1;31mTypeError\u001b[0m: index() takes at least 1 argument (0 given)"
     ]
    }
   ],
   "source": [
    "print(txt.lower())\n",
    "print(txt.upper())\n",
    "print(txt.capitalize())\n",
    "print(txt.casefold())\n",
    "print(txt.encode())\n",
    "print(txt.count(\"occupation\"))\n",
    "print(txt.isalpha())\n",
    "print(txt.index())\n",
    "print(txt.endswith('your'))\n",
    "print(txt.islower())\n",
    "print(txt.isupper())\n",
    "print(txt.isprintable())\n",
    "print(txt.startswith(\"what's\"))"
   ]
  },
  {
   "cell_type": "code",
   "execution_count": 86,
   "id": "714af448",
   "metadata": {},
   "outputs": [
    {
     "name": "stdout",
     "output_type": "stream",
     "text": [
      "True\n",
      "False\n",
      "False\n"
     ]
    }
   ],
   "source": [
    "print(10>9)\n",
    "print(10==9)\n",
    "print(10<9)"
   ]
  },
  {
   "cell_type": "code",
   "execution_count": 87,
   "id": "cd2f39af",
   "metadata": {},
   "outputs": [
    {
     "name": "stdout",
     "output_type": "stream",
     "text": [
      "True\n",
      "True\n"
     ]
    }
   ],
   "source": [
    "print(bool(\"Tummy\"))\n",
    "print(bool(24))"
   ]
  },
  {
   "cell_type": "code",
   "execution_count": 88,
   "id": "51e40576",
   "metadata": {},
   "outputs": [
    {
     "name": "stdout",
     "output_type": "stream",
     "text": [
      "True\n",
      "True\n"
     ]
    }
   ],
   "source": [
    "x = \"Undercover\"\n",
    "y = 35\n",
    "print(bool(x))\n",
    "print(bool(y))"
   ]
  },
  {
   "cell_type": "code",
   "execution_count": 89,
   "id": "de07cae6",
   "metadata": {},
   "outputs": [
    {
     "name": "stdout",
     "output_type": "stream",
     "text": [
      "True\n"
     ]
    }
   ],
   "source": [
    "class my_class():\n",
    "    def  _len_(self):\n",
    "        return  0\n",
    "    \n",
    "myobj = my_class\n",
    "print(bool(myobj))"
   ]
  },
  {
   "cell_type": "code",
   "execution_count": 90,
   "id": "ab7cb00d",
   "metadata": {},
   "outputs": [
    {
     "name": "stdout",
     "output_type": "stream",
     "text": [
      "True\n"
     ]
    }
   ],
   "source": [
    "def myFunction() :\n",
    "  return True\n",
    "\n",
    "print(myFunction())"
   ]
  },
  {
   "cell_type": "code",
   "execution_count": 91,
   "id": "902ff979",
   "metadata": {},
   "outputs": [
    {
     "name": "stdout",
     "output_type": "stream",
     "text": [
      "True\n"
     ]
    }
   ],
   "source": [
    "def function():\n",
    "    return True\n",
    "\n",
    "print(function())"
   ]
  },
  {
   "cell_type": "code",
   "execution_count": 92,
   "id": "b47ae496",
   "metadata": {},
   "outputs": [
    {
     "name": "stdout",
     "output_type": "stream",
     "text": [
      "True\n"
     ]
    }
   ],
   "source": [
    "x = 90\n",
    "print(isinstance(x, int))"
   ]
  },
  {
   "cell_type": "code",
   "execution_count": 93,
   "id": "0bba9a07",
   "metadata": {},
   "outputs": [
    {
     "name": "stdout",
     "output_type": "stream",
     "text": [
      "False\n",
      "True\n",
      "False\n",
      "False\n"
     ]
    }
   ],
   "source": [
    "r = [\"guy\", \"smalls\"]\n",
    "print(isinstance(r, tuple))\n",
    "print(isinstance(r, list))\n",
    "print(isinstance(r, set))\n",
    "print(isinstance(r, str))"
   ]
  },
  {
   "cell_type": "code",
   "execution_count": 94,
   "id": "0b395e9d",
   "metadata": {},
   "outputs": [
    {
     "name": "stdout",
     "output_type": "stream",
     "text": [
      "14\n",
      "5\n",
      "63\n",
      "9.0\n",
      "1\n",
      "125\n",
      "5.181818181818182\n",
      "16\n",
      "540.0\n"
     ]
    }
   ],
   "source": [
    "f = 9 + 5\n",
    "g = 12 - 7\n",
    "h = 7*9\n",
    "i = 81/9\n",
    "j = 21%5\n",
    "k = 5**3\n",
    "l = 57\n",
    "m = 65//4\n",
    "n = 675\n",
    "print(f)\n",
    "print(g)\n",
    "print(h)\n",
    "print(i)\n",
    "print(j)\n",
    "print(k)\n",
    "print(l/11)\n",
    "print(m)\n",
    "print(n*0.8)"
   ]
  },
  {
   "cell_type": "code",
   "execution_count": 95,
   "id": "07f5c002",
   "metadata": {},
   "outputs": [
    {
     "name": "stdout",
     "output_type": "stream",
     "text": [
      "True\n"
     ]
    }
   ],
   "source": [
    "class myclass():\n",
    "    def _len_(self):\n",
    "        return 0\n",
    "myobj  = myclass()\n",
    "print(bool(myobj))"
   ]
  },
  {
   "cell_type": "code",
   "execution_count": 96,
   "id": "fece0c86",
   "metadata": {},
   "outputs": [
    {
     "name": "stdout",
     "output_type": "stream",
     "text": [
      "True\n"
     ]
    }
   ],
   "source": [
    "def myFunction() :\n",
    "  return True\n",
    "\n",
    "print(myFunction())"
   ]
  },
  {
   "cell_type": "code",
   "execution_count": 97,
   "id": "119b3de9",
   "metadata": {},
   "outputs": [
    {
     "name": "stdout",
     "output_type": "stream",
     "text": [
      "True\n"
     ]
    }
   ],
   "source": [
    "def myFunction() :\n",
    "    return True\n",
    "\n",
    "print(myFunction())"
   ]
  },
  {
   "cell_type": "code",
   "execution_count": 98,
   "id": "3b0a6441",
   "metadata": {},
   "outputs": [
    {
     "name": "stdout",
     "output_type": "stream",
     "text": [
      "YES!\n"
     ]
    }
   ],
   "source": [
    "def myFunction() :\n",
    "    return True\n",
    "\n",
    "if myFunction() :\n",
    "    print(\"YES!\")\n",
    "else:\n",
    "    print(\"NO!\")"
   ]
  },
  {
   "cell_type": "code",
   "execution_count": 99,
   "id": "70b6379d",
   "metadata": {},
   "outputs": [
    {
     "name": "stdout",
     "output_type": "stream",
     "text": [
      "True\n"
     ]
    }
   ],
   "source": [
    "x = 300\n",
    "print(isinstance(x, int))"
   ]
  },
  {
   "cell_type": "code",
   "execution_count": 100,
   "id": "9f9fd69f",
   "metadata": {},
   "outputs": [
    {
     "name": "stdout",
     "output_type": "stream",
     "text": [
      "False\n",
      "True\n",
      "False\n"
     ]
    }
   ],
   "source": [
    "a = 0.9\n",
    "print(isinstance(0.9, int))\n",
    "print(isinstance(0.9, float))\n",
    "print(isinstance(0.9, str))"
   ]
  },
  {
   "cell_type": "code",
   "execution_count": 101,
   "id": "6f6a8673",
   "metadata": {},
   "outputs": [
    {
     "name": "stdout",
     "output_type": "stream",
     "text": [
      "True\n"
     ]
    }
   ],
   "source": [
    "print(10>9)"
   ]
  },
  {
   "cell_type": "code",
   "execution_count": 102,
   "id": "e337ae4d",
   "metadata": {},
   "outputs": [
    {
     "name": "stdout",
     "output_type": "stream",
     "text": [
      "5\n"
     ]
    }
   ],
   "source": [
    "x = 10\n",
    "x -= 5  # Subtract 5 from the current value of x\n",
    "print(x)  # Output: 5"
   ]
  },
  {
   "cell_type": "code",
   "execution_count": 103,
   "id": "afec32be",
   "metadata": {},
   "outputs": [
    {
     "name": "stdout",
     "output_type": "stream",
     "text": [
      "False\n",
      "True\n"
     ]
    }
   ],
   "source": [
    "x = 10\n",
    "y = 5\n",
    "z = 50\n",
    "print(x>z)\n",
    "print(x>=y)"
   ]
  },
  {
   "cell_type": "code",
   "execution_count": 104,
   "id": "ff1c7e1d",
   "metadata": {},
   "outputs": [
    {
     "name": "stdout",
     "output_type": "stream",
     "text": [
      "15\n"
     ]
    }
   ],
   "source": [
    "x = 3\n",
    "x*=5\n",
    "print(x)"
   ]
  },
  {
   "cell_type": "code",
   "execution_count": 105,
   "id": "a4e5893f",
   "metadata": {},
   "outputs": [
    {
     "name": "stdout",
     "output_type": "stream",
     "text": [
      "13\n"
     ]
    }
   ],
   "source": [
    "x-=2\n",
    "print(x)"
   ]
  },
  {
   "cell_type": "code",
   "execution_count": 106,
   "id": "5bb54c76",
   "metadata": {},
   "outputs": [
    {
     "name": "stdout",
     "output_type": "stream",
     "text": [
      "3\n"
     ]
    }
   ],
   "source": [
    "x%=5\n",
    "print(x)"
   ]
  },
  {
   "cell_type": "code",
   "execution_count": 107,
   "id": "629b9db6",
   "metadata": {},
   "outputs": [
    {
     "name": "stdout",
     "output_type": "stream",
     "text": [
      "2\n"
     ]
    }
   ],
   "source": [
    "x&=6\n",
    "print(x)"
   ]
  },
  {
   "cell_type": "code",
   "execution_count": 108,
   "id": "d4d2affa",
   "metadata": {},
   "outputs": [
    {
     "name": "stdout",
     "output_type": "stream",
     "text": [
      "2\n"
     ]
    }
   ],
   "source": [
    "x&=7\n",
    "print(x)"
   ]
  },
  {
   "cell_type": "code",
   "execution_count": 109,
   "id": "84ed72da",
   "metadata": {},
   "outputs": [
    {
     "name": "stdout",
     "output_type": "stream",
     "text": [
      "0\n"
     ]
    }
   ],
   "source": [
    "x &= 8\n",
    "print(x)"
   ]
  },
  {
   "cell_type": "code",
   "execution_count": 110,
   "id": "eecffdde",
   "metadata": {},
   "outputs": [
    {
     "name": "stdout",
     "output_type": "stream",
     "text": [
      "5\n"
     ]
    }
   ],
   "source": [
    "x = 5\n",
    "x & 8\n",
    "print(x)"
   ]
  },
  {
   "cell_type": "code",
   "execution_count": 111,
   "id": "3b48a5f1",
   "metadata": {},
   "outputs": [
    {
     "name": "stdout",
     "output_type": "stream",
     "text": [
      "6\n"
     ]
    }
   ],
   "source": [
    "c = 5\n",
    "c ^= 3\n",
    "print(c)"
   ]
  },
  {
   "cell_type": "code",
   "execution_count": 112,
   "id": "bde236e2",
   "metadata": {},
   "outputs": [
    {
     "name": "stdout",
     "output_type": "stream",
     "text": [
      "1\n"
     ]
    }
   ],
   "source": [
    "answer = 2^3\n",
    "print(answer)"
   ]
  },
  {
   "cell_type": "code",
   "execution_count": 113,
   "id": "c4fa16d7",
   "metadata": {},
   "outputs": [
    {
     "name": "stdout",
     "output_type": "stream",
     "text": [
      "125\n"
     ]
    }
   ],
   "source": [
    "a = 5\n",
    "a**=3\n",
    "print(a)"
   ]
  },
  {
   "cell_type": "code",
   "execution_count": 114,
   "id": "6d4685f2",
   "metadata": {},
   "outputs": [
    {
     "name": "stdout",
     "output_type": "stream",
     "text": [
      "5.0\n",
      "<class 'float'>\n"
     ]
    }
   ],
   "source": [
    "m = 15/3\n",
    "print(m)\n",
    "print(type(m))"
   ]
  },
  {
   "cell_type": "code",
   "execution_count": 115,
   "id": "f3004071",
   "metadata": {},
   "outputs": [
    {
     "name": "stdout",
     "output_type": "stream",
     "text": [
      "Yes, 10 less than 23 \n"
     ]
    }
   ],
   "source": [
    "a = 10<23\n",
    "if a:\n",
    "    print(\"Yes, 10 less than 23 \")\n",
    "else:\n",
    "    print(\"No, 10 not less than 23\")"
   ]
  },
  {
   "cell_type": "code",
   "execution_count": 116,
   "id": "c153b05d",
   "metadata": {},
   "outputs": [
    {
     "name": "stdout",
     "output_type": "stream",
     "text": [
      "15\n",
      "3375\n"
     ]
    }
   ],
   "source": [
    "x = 5\n",
    "x*=3\n",
    "print(x)\n",
    "x**=3\n",
    "print(x)"
   ]
  },
  {
   "cell_type": "code",
   "execution_count": 117,
   "id": "a0dc5a3f",
   "metadata": {},
   "outputs": [
    {
     "name": "stdout",
     "output_type": "stream",
     "text": [
      "1\n"
     ]
    }
   ],
   "source": [
    "x = 5\n",
    "x&=3\n",
    "print(x)"
   ]
  },
  {
   "cell_type": "code",
   "execution_count": 118,
   "id": "af31983c",
   "metadata": {},
   "outputs": [
    {
     "name": "stdout",
     "output_type": "stream",
     "text": [
      "5\n"
     ]
    }
   ],
   "source": [
    "e = 5\n",
    "e//3\n",
    "print(e)"
   ]
  },
  {
   "cell_type": "code",
   "execution_count": 119,
   "id": "bbe371cd",
   "metadata": {},
   "outputs": [
    {
     "name": "stdout",
     "output_type": "stream",
     "text": [
      "15\n"
     ]
    }
   ],
   "source": [
    "a = 5\n",
    "b = 7\n",
    "a*=3\n",
    "print(a)"
   ]
  },
  {
   "cell_type": "code",
   "execution_count": 120,
   "id": "b45683a3",
   "metadata": {},
   "outputs": [
    {
     "name": "stdout",
     "output_type": "stream",
     "text": [
      "15\n"
     ]
    }
   ],
   "source": [
    "a//3\n",
    "print(a)"
   ]
  },
  {
   "cell_type": "code",
   "execution_count": 121,
   "id": "103c9186",
   "metadata": {},
   "outputs": [
    {
     "name": "stdout",
     "output_type": "stream",
     "text": [
      "-13\n"
     ]
    }
   ],
   "source": [
    "t = ~12\n",
    "print(t)"
   ]
  },
  {
   "cell_type": "code",
   "execution_count": 122,
   "id": "8f3c7ee9",
   "metadata": {},
   "outputs": [
    {
     "name": "stdout",
     "output_type": "stream",
     "text": [
      "-46\n"
     ]
    }
   ],
   "source": [
    "f = ~45\n",
    "print(f)"
   ]
  },
  {
   "cell_type": "code",
   "execution_count": 123,
   "id": "b2bd3708",
   "metadata": {},
   "outputs": [
    {
     "name": "stdout",
     "output_type": "stream",
     "text": [
      "-15 -18\n"
     ]
    }
   ],
   "source": [
    "g, h = ~14, ~17\n",
    "print(g, h)"
   ]
  },
  {
   "cell_type": "code",
   "execution_count": 124,
   "id": "5e7b1f11",
   "metadata": {},
   "outputs": [
    {
     "name": "stdout",
     "output_type": "stream",
     "text": [
      "('Kanye West', 'T.D Jakes', 'Simon Selenk', 'Will Smith', 'Sadh Guru', 'Kobe Bryant', 'Myles Munroe')\n",
      "7\n",
      "<class 'tuple'>\n",
      "['Kanye West', 'T.D Jakes', 'Simon Selenk', 'Will Smith', 'Sadh Guru', 'Kobe Bryant', 'Myles Munroe']\n"
     ]
    }
   ],
   "source": [
    "speaker = (\"Kanye West\", \"T.D Jakes\", \"Simon Selenk\", \"Will Smith\", \"Sadh Guru\", \"Kobe Bryant\", \"Myles Munroe\")\n",
    "print(speaker)\n",
    "print(len(speaker))\n",
    "print(type(speaker))\n",
    "speaker = list((speaker))\n",
    "print(speaker)"
   ]
  },
  {
   "cell_type": "code",
   "execution_count": 125,
   "id": "a5cdf702",
   "metadata": {},
   "outputs": [
    {
     "name": "stdout",
     "output_type": "stream",
     "text": [
      "Will Smith\n",
      "Myles Munroe\n",
      "['Simon Selenk', 'Will Smith', 'Sadh Guru']\n",
      "['Sadh Guru', 'Kobe Bryant', 'Myles Munroe']\n",
      "['Kanye West', 'T.D Jakes', 'Simon Selenk', 'Will Smith', 'Sadh Guru', 'Kobe Bryant']\n",
      "['T.D Jakes', 'Simon Selenk', 'Will Smith', 'Sadh Guru']\n",
      "Yes, Kobe Bryant in speaker\n",
      "No, Simon Jakes not in speaker\n"
     ]
    }
   ],
   "source": [
    "print(speaker[3])\n",
    "print(speaker[-1])\n",
    "print(speaker[2:5])\n",
    "print(speaker[4:])\n",
    "print(speaker[:6])\n",
    "print(speaker[-6:-2])\n",
    "if \"Kobe Bryant\" in speaker:\n",
    "    print(\"Yes, Kobe Bryant in speaker\")\n",
    "else:\n",
    "    print(\"No, Kobe Bryant not in speaker\")\n",
    "if \"Simon Jakes\" in speaker:\n",
    "    print(\"Yes, Simon Jakes in speaker\")\n",
    "else:\n",
    "    print(\"No, Simon Jakes not in speaker\")"
   ]
  },
  {
   "cell_type": "code",
   "execution_count": 126,
   "id": "749a22f6",
   "metadata": {},
   "outputs": [
    {
     "name": "stdout",
     "output_type": "stream",
     "text": [
      "['Kanye West', 'T.D Jakes', 'Simon Cowell', 'Will Smith', 'Sadh Guru', 'Kobe Bryant', 'Myles Munroe']\n",
      "['Simon Senik', 'Denzel Washington', 'Kanye West', 'T.D Jakes', 'Will Smith', 'Sadh Guru', 'Kobe Bryant', 'Myles Munroe']\n"
     ]
    }
   ],
   "source": [
    "speaker[2] = \"Simon Cowell\"\n",
    "print(speaker)\n",
    "speaker[:3] = [\"Simon Senik\", \"Denzel Washington\", \"Kanye West\", \"T.D Jakes\"]\n",
    "print(speaker)"
   ]
  },
  {
   "cell_type": "code",
   "execution_count": 127,
   "id": "1fa1766f",
   "metadata": {},
   "outputs": [
    {
     "name": "stdout",
     "output_type": "stream",
     "text": [
      "['Eric Thomas', 'Simon Senik', 'Denzel Washington', 'Kanye West', 'T.D Jakes', 'Will Smith', 'Sadh Guru', 'Kobe Bryant', 'Myles Munroe']\n"
     ]
    }
   ],
   "source": [
    "speaker.insert(0, \"Eric Thomas\")\n",
    "print(speaker)"
   ]
  },
  {
   "cell_type": "code",
   "execution_count": 128,
   "id": "05e14d8e",
   "metadata": {},
   "outputs": [
    {
     "name": "stdout",
     "output_type": "stream",
     "text": [
      "9\n"
     ]
    }
   ],
   "source": [
    "print(len(speaker))"
   ]
  },
  {
   "cell_type": "code",
   "execution_count": 129,
   "id": "83d47905",
   "metadata": {},
   "outputs": [
    {
     "name": "stdout",
     "output_type": "stream",
     "text": [
      "['Eric Thomas', 'Simon Senik', 'Denzel Washington', 'Kanye West', 'T.D Jakes', 'Will Smith', 'Sadh Guru', 'Kobe Bryant', 'Myles Munroe']\n"
     ]
    }
   ],
   "source": [
    "speakers =  [\"Eric Thomas\", \"Simon Senik\", \"Denzel Washington\", \"Kanye West\", \"T.D Jakes\", \"Will Smith\", \"Sadh Guru\", \"Kobe Bryant\", \"Myles Munroe\"]\n",
    "print(speakers)"
   ]
  },
  {
   "cell_type": "code",
   "execution_count": 130,
   "id": "afd67527",
   "metadata": {},
   "outputs": [
    {
     "name": "stdout",
     "output_type": "stream",
     "text": [
      "['Eric Thomas', 'Simon Senik', 'Denzel Washington', 'Kanye West', 'T.D Jakes', 'David Goggins', 'Will Smith', 'Sadh Guru', 'Kobe Bryant', 'Myles Munroe']\n",
      "['Eric Thomas', 'Simon Senik', 'Denzel Washington', 'Kanye West', 'T.D Jakes', 'David Goggins', 'Will Smith', 'Sadh Guru', 'Kobe Bryant', 'Myles Munroe', 'Will Smith']\n"
     ]
    }
   ],
   "source": [
    "speakers.insert(5, \"David Goggins\")\n",
    "print(speakers)\n",
    "speakers.append('Will Smith')\n",
    "print(speakers)"
   ]
  },
  {
   "cell_type": "code",
   "execution_count": 131,
   "id": "170a44b0",
   "metadata": {},
   "outputs": [
    {
     "name": "stdout",
     "output_type": "stream",
     "text": [
      "['Eric Thomas', 'Simon Senik', 'Denzel Washington', 'Kanye West', 'T.D Jakes', 'Sadh Guru', 'Kobe Bryant', 'Myles Munroe', 'Will Smith']\n"
     ]
    }
   ],
   "source": [
    "speakers.remove(\"David Goggins\")\n",
    "speakers.remove(\"Will Smith\")\n",
    "print(speakers)"
   ]
  },
  {
   "cell_type": "code",
   "execution_count": 132,
   "id": "b46b88e3",
   "metadata": {},
   "outputs": [
    {
     "name": "stdout",
     "output_type": "stream",
     "text": [
      "['Eric Thomas', 'Simon Senik', 'Denzel Washington', 'Kanye West', 'T.D Jakes', 'Sadh Guru', 'Kobe Bryant', 'Myles Munroe', 'Will Smith']\n"
     ]
    }
   ],
   "source": [
    "print(speakers)"
   ]
  },
  {
   "cell_type": "code",
   "execution_count": 133,
   "id": "f5622ef6",
   "metadata": {},
   "outputs": [
    {
     "name": "stdout",
     "output_type": "stream",
     "text": [
      "Eric Thomas\n",
      "Simon Senik\n",
      "Denzel Washington\n",
      "Kanye West\n",
      "T.D Jakes\n",
      "Will Smith\n",
      "Sadguru\n",
      "Kobe Bryant\n",
      "Myles Munroe\n"
     ]
    }
   ],
   "source": [
    "speakers = [\"Eric Thomas\", \"Simon Senik\", \"Denzel Washington\", \"Kanye West\", \"T.D Jakes\", \"Will Smith\", \"Sadguru\", \"Kobe Bryant\", \"Myles Munroe\"]\n",
    "\n",
    "for x in speakers:\n",
    "    print(x)"
   ]
  },
  {
   "cell_type": "code",
   "execution_count": 134,
   "id": "b3e264c2",
   "metadata": {},
   "outputs": [
    {
     "name": "stdout",
     "output_type": "stream",
     "text": [
      "Eric Thomas\n",
      "Simon Senik\n",
      "Denzel Washington\n",
      "Kanye West\n",
      "T.D Jakes\n",
      "Will Smith\n",
      "Sadguru\n",
      "Kobe Bryant\n",
      "Myles Munroe\n"
     ]
    }
   ],
   "source": [
    "for i in range(len(speakers)):\n",
    "    print(speakers[i])"
   ]
  },
  {
   "cell_type": "code",
   "execution_count": 135,
   "id": "f39f99be",
   "metadata": {},
   "outputs": [
    {
     "name": "stdout",
     "output_type": "stream",
     "text": [
      "Eric Thomas\n",
      "Simon Senik\n",
      "Denzel Washington\n",
      "Kanye West\n",
      "T.D Jakes\n",
      "Will Smith\n",
      "Sadh Guru\n",
      "Kobe Bryant\n",
      "Myles Munroe\n"
     ]
    }
   ],
   "source": [
    "i = 0\n",
    "while i < len(speakers):\n",
    "    print(speaker[i])\n",
    "    i = i + 1"
   ]
  },
  {
   "cell_type": "code",
   "execution_count": 136,
   "id": "972f6ec5",
   "metadata": {},
   "outputs": [
    {
     "name": "stdout",
     "output_type": "stream",
     "text": [
      "Eric Thomas\n",
      "Simon Senik\n",
      "Denzel Washington\n",
      "Kanye West\n",
      "T.D Jakes\n",
      "Will Smith\n",
      "Sadh Guru\n",
      "Kobe Bryant\n",
      "Myles Munroe\n"
     ]
    }
   ],
   "source": [
    "i = 0\n",
    "while i < len(speakers):\n",
    "    print(speaker[i])\n",
    "    i = i + 1"
   ]
  },
  {
   "cell_type": "code",
   "execution_count": 137,
   "id": "5baf43d6",
   "metadata": {},
   "outputs": [
    {
     "name": "stdout",
     "output_type": "stream",
     "text": [
      "Eric Thomas\n",
      "Simon Senik\n",
      "Denzel Washington\n",
      "Kanye West\n",
      "T.D Jakes\n",
      "Will Smith\n",
      "Sadguru\n",
      "Kobe Bryant\n",
      "Myles Munroe\n"
     ]
    },
    {
     "data": {
      "text/plain": [
       "[None, None, None, None, None, None, None, None, None]"
      ]
     },
     "execution_count": 137,
     "metadata": {},
     "output_type": "execute_result"
    }
   ],
   "source": [
    "[print(x) for x in speakers]"
   ]
  },
  {
   "cell_type": "code",
   "execution_count": 138,
   "id": "aa1221db",
   "metadata": {},
   "outputs": [
    {
     "name": "stdout",
     "output_type": "stream",
     "text": [
      "['Eric Thomas', 'Simon Senik', 'Denzel Washington', 'Kobe Bryant', 'Myles Munroe']\n"
     ]
    }
   ],
   "source": [
    "speakers = [\"Eric Thomas\", \"Simon Senik\", \"Denzel Washington\", \"Kanye West\", \"T.D Jakes\", \"Will Smith\", \"Sadguru\", \"Kobe Bryant\", \"Myles Munroe\"]\n",
    "speaker = []\n",
    "\n",
    "for x in speakers:\n",
    "    if \"o\" in x:\n",
    "        speaker.append(x)\n",
    "\n",
    "print(speaker)"
   ]
  },
  {
   "cell_type": "code",
   "execution_count": 139,
   "id": "aeda1605",
   "metadata": {},
   "outputs": [
    {
     "name": "stdout",
     "output_type": "stream",
     "text": [
      "['Eric Thomas', 'Simon Senik', 'Denzel Washington', 'Kobe Bryant']\n"
     ]
    }
   ],
   "source": [
    "guest = ['Eric Thomas', 'Simon Senik', 'Denzel Washington', 'Kobe Bryant', 'Myles Munroe']\n",
    "speaker = [x for x in guest if x != \"Myles Munroe\"]\n",
    "print(speaker)"
   ]
  },
  {
   "cell_type": "code",
   "execution_count": 140,
   "id": "9df84786",
   "metadata": {},
   "outputs": [
    {
     "name": "stdout",
     "output_type": "stream",
     "text": [
      "['ERIC THOMAS', 'SIMON SENIK', 'DENZEL WASHINGTON', 'KOBE BRYANT', 'MYLES MUNROE']\n"
     ]
    }
   ],
   "source": [
    "speakers = [\"Eric Thomas\", \"Simon Senik\", \"Denzel Washington\", \"Kanye West\", \"T.D Jakes\", \"Will Smith\", \"Sadguru\", \"Kobe Bryant\", \"Myles Munroe\"]\n",
    "speaker = []\n",
    "\n",
    "for x in speakers:\n",
    "    if \"o\" in x:\n",
    "        speaker.append(x.upper())\n",
    "\n",
    "print(speaker)"
   ]
  },
  {
   "cell_type": "code",
   "execution_count": 141,
   "id": "2403efc9",
   "metadata": {},
   "outputs": [
    {
     "name": "stdout",
     "output_type": "stream",
     "text": [
      "['DENZEL WASHINGTON', 'KOBE BRYANT']\n"
     ]
    }
   ],
   "source": [
    "print(speaker[2:4])"
   ]
  },
  {
   "cell_type": "code",
   "execution_count": 142,
   "id": "85114cd3",
   "metadata": {},
   "outputs": [
    {
     "name": "stdout",
     "output_type": "stream",
     "text": [
      "['Eric Thomas', 'Simon Senik', 'Denzel Washington', 'Kanye West', 'T.D Jakes', 'Will Smith', 'Sadguru', 'Kobe Bryant', 'Myles Munroe']\n"
     ]
    }
   ],
   "source": [
    "print(speakers)"
   ]
  },
  {
   "cell_type": "code",
   "execution_count": 143,
   "id": "4a47e325",
   "metadata": {},
   "outputs": [
    {
     "name": "stdout",
     "output_type": "stream",
     "text": [
      "['Eric Thomas', 'Les Brown', 'Denzel Washington', 'Kanye West', 'T.D Jakes', 'Will Smith', 'Sadguru', 'Kobe Bryant', 'Les Brown']\n"
     ]
    }
   ],
   "source": [
    "speakers = [\"Eric Thomas\", \"Simon Senik\", \"Denzel Washington\", \"Kanye West\", \"T.D Jakes\", \"Will Smith\", \"Sadguru\", \"Kobe Bryant\", \"Myles Munroe\"]\n",
    "\n",
    "speaker = [x if x not in [\"Simon Senik\", \"Myles Munroe\"] else \"Les Brown\" for x in speakers]\n",
    "\n",
    "print(speaker)"
   ]
  },
  {
   "cell_type": "code",
   "execution_count": 144,
   "id": "d4f1a7c3",
   "metadata": {},
   "outputs": [
    {
     "name": "stdout",
     "output_type": "stream",
     "text": [
      "['Eric Thomas', 'Les Brown', 'Denzel Washington', 'Kanye West', 'T.D Jakes', 'Will Smith', 'Sadguru', 'Kobe Bryant']\n"
     ]
    }
   ],
   "source": [
    "speaker.pop()\n",
    "print(speaker)"
   ]
  },
  {
   "cell_type": "code",
   "execution_count": 145,
   "id": "9a16589b",
   "metadata": {},
   "outputs": [
    {
     "name": "stdout",
     "output_type": "stream",
     "text": [
      "[98, 85, 80, 60, 35, 23]\n"
     ]
    }
   ],
   "source": [
    "creek = [80, 35, 23, 60, 98, 85]\n",
    "creek.sort(reverse = True)\n",
    "print(creek)"
   ]
  },
  {
   "cell_type": "code",
   "execution_count": 146,
   "id": "ee58a146",
   "metadata": {},
   "outputs": [
    {
     "name": "stdout",
     "output_type": "stream",
     "text": [
      "[98, 85, 80, 60, 35, 23]\n"
     ]
    }
   ],
   "source": [
    "def myfunc(n):\n",
    "    return abs(n - 98)\n",
    "    \n",
    "creek.sort(key = myfunc)\n",
    "print(creek)"
   ]
  },
  {
   "cell_type": "code",
   "execution_count": 147,
   "id": "2b0d3636",
   "metadata": {},
   "outputs": [
    {
     "name": "stdout",
     "output_type": "stream",
     "text": [
      "['Anaestiologist', 'Oncologist', 'gynaecologist', 'nurse', 'paediatrician', 'radiologist']\n",
      "['Anaestiologist', 'gynaecologist', 'nurse', 'Oncologist', 'paediatrician', 'radiologist']\n",
      "['radiologist', 'paediatrician', 'Oncologist', 'nurse', 'gynaecologist', 'Anaestiologist']\n"
     ]
    }
   ],
   "source": [
    "medical_occupation =  ['nurse', 'gynaecologist', 'paediatrician', 'Oncologist', 'radiologist', 'Anaestiologist']\n",
    "medical_occupation.sort()\n",
    "print(medical_occupation)\n",
    "\n",
    "medical_occupation.sort(key = str.lower)\n",
    "print(medical_occupation)\n",
    "\n",
    "medical_occupation.reverse()\n",
    "print(medical_occupation)"
   ]
  },
  {
   "cell_type": "code",
   "execution_count": 148,
   "id": "4607a015",
   "metadata": {},
   "outputs": [
    {
     "name": "stdout",
     "output_type": "stream",
     "text": [
      "['RADIOLOGIST', 'PAEDIATRICIAN', 'ONCOLOGIST', 'NURSE', 'GYNAECOLOGIST', 'ANAESTIOLOGIST']\n"
     ]
    }
   ],
   "source": [
    "medical_occupation = [occupation.upper() for occupation in medical_occupation]\n",
    "print(medical_occupation)"
   ]
  },
  {
   "cell_type": "code",
   "execution_count": 149,
   "id": "983c70b8",
   "metadata": {},
   "outputs": [
    {
     "name": "stdout",
     "output_type": "stream",
     "text": [
      "list[['DIETICIAN', 'PHYSICIAN', 'PHYSIOTHERAPIST']]\n"
     ]
    }
   ],
   "source": [
    "listed = ['DIETICIAN', 'PHYSICIAN', 'PHYSIOTHERAPIST']\n",
    "medical_occupation =  list[listed]\n",
    "print(medical_occupation)"
   ]
  },
  {
   "cell_type": "code",
   "execution_count": 150,
   "id": "776c9911",
   "metadata": {},
   "outputs": [
    {
     "name": "stdout",
     "output_type": "stream",
     "text": [
      "['NURSE', 'GYNAECOLOGIST', 'PAEDIATRICIAN', 'ONCOLOGIST', 'RADIOLOGIST', 'ANAESTIOLOGIST']\n",
      "['NURSE', 'GYNAECOLOGIST', 'PAEDIATRICIAN', 'ONCOLOGIST', 'RADIOLOGIST', 'ANAESTIOLOGIST', 'DIETICIAN', 'PHYSICIAN', 'PHYSIOTHERAPIST']\n"
     ]
    }
   ],
   "source": [
    "medical_occupation =  ['nurse', 'gynaecologist', 'paediatrician', 'Oncologist', 'radiologist', 'Anaestiologist']\n",
    "medical_occupation = [occupation.upper() for occupation in medical_occupation]\n",
    "print(medical_occupation)\n",
    "\n",
    "listed = ['DIETICIAN', 'PHYSICIAN', 'PHYSIOTHERAPIST']\n",
    "Medical_occupation = medical_occupation + listed\n",
    "print(Medical_occupation)"
   ]
  },
  {
   "cell_type": "code",
   "execution_count": 151,
   "id": "c30cf16c",
   "metadata": {},
   "outputs": [
    {
     "name": "stdout",
     "output_type": "stream",
     "text": [
      "['NURSE', 'GYNAECOLOGIST', 'PAEDIATRICIAN', 'ONCOLOGIST', 'RADIOLOGIST', 'ANAESTIOLOGIST', 'DIETICIAN', 'PHYSICIAN', 'PHYSIOTHERAPIST']\n",
      "['nurse', 'gynaecologist', 'paediatrician', 'oncologist', 'radiologist', 'anaestiologist', 'dietician', 'physician', 'physiotherapist']\n"
     ]
    }
   ],
   "source": [
    "Medical_occupation = ['NURSE', 'GYNAECOLOGIST', 'PAEDIATRICIAN', 'ONCOLOGIST', 'RADIOLOGIST', 'ANAESTIOLOGIST', 'DIETICIAN', 'PHYSICIAN', 'PHYSIOTHERAPIST']\n",
    "medical_occupation = list(Medical_occupation)\n",
    "print(medical_occupation)\n",
    "\n",
    "medical_occupation = [occupation.lower() for occupation in medical_occupation]\n",
    "print(medical_occupation)"
   ]
  },
  {
   "cell_type": "code",
   "execution_count": 152,
   "id": "46cf5755",
   "metadata": {},
   "outputs": [
    {
     "name": "stdout",
     "output_type": "stream",
     "text": [
      "['a', 'b', 'c', 1, 2, 3]\n",
      "['a', 'b', 'c', 1, 2, 3]\n",
      "['a', 'b', 'c', 1, 2, 3, 1, 2, 3]\n"
     ]
    }
   ],
   "source": [
    "var = ['a', 'b', 'c']\n",
    "rav = [1, 2, 3]\n",
    "arv = var + rav\n",
    "print(arv)\n",
    "\n",
    "var.extend(rav)\n",
    "print(var)\n",
    "\n",
    "for x in rav:\n",
    "    var.append(x)\n",
    "print(var)"
   ]
  },
  {
   "cell_type": "code",
   "execution_count": 153,
   "id": "cccf690f",
   "metadata": {},
   "outputs": [
    {
     "name": "stdout",
     "output_type": "stream",
     "text": [
      "('in the club', 'candy shop', 'ayo technology', 'look at me now')\n",
      "['in the club', 'candy shop', 'ayo technology', 'look at me now']\n",
      "['in the club', 'candy shop', 'ayo technology', 'look at me now', 'monster', 'good life']\n",
      "('in the club', 'candy shop', 'ayo technology', 'look at me now', 'monster', 'good life')\n"
     ]
    }
   ],
   "source": [
    "jams = (\"in the club\", \"candy shop\", \"ayo technology\",  \"look at me now\")\n",
    "print(jams)\n",
    "\n",
    "hits =  list(jams)\n",
    "print(hits)\n",
    "\n",
    "songs = [\"monster\", \"good life\"]\n",
    "for x in songs:\n",
    "    hits.append(x)\n",
    "print(hits)\n",
    "\n",
    "jams = tuple(hits)\n",
    "print(jams)"
   ]
  },
  {
   "cell_type": "code",
   "execution_count": 154,
   "id": "1c4065fb",
   "metadata": {},
   "outputs": [
    {
     "name": "stdout",
     "output_type": "stream",
     "text": [
      "('in the club', 'candy shop', 'ayo technology', 'look at me now', 'monster', 'good life')\n",
      "('in the club', 'candy shop', 'ayo technology', 'look at me now', 'monster', 'good life')\n"
     ]
    }
   ],
   "source": [
    "jams = (\"in the club\", \"candy shop\", \"ayo technology\",  \"look at me now\")\n",
    "songs = (\"monster\", \"good life\")\n",
    "hitz = jams + songs\n",
    "jams = tuple(hitz)\n",
    "print(jams)\n",
    "\n",
    "jams = (\"in the club\", \"candy shop\", \"ayo technology\", \"look at me now\")\n",
    "songs = (\"monster\", \"good life\")\n",
    "hitz = jams + songs\n",
    "jams = tuple(hitz)\n",
    "print(jams)"
   ]
  },
  {
   "cell_type": "code",
   "execution_count": 155,
   "id": "d16fc0f9",
   "metadata": {},
   "outputs": [
    {
     "name": "stdout",
     "output_type": "stream",
     "text": [
      "['in the club', 'candy shop', 'ayo technology', 'look at me now', 'monster', 'good life']\n",
      "('in the club', 'candy shop', 'ayo technology', 'look at me now', 'monster')\n"
     ]
    }
   ],
   "source": [
    "jams = ('in the club', 'candy shop', 'ayo technology', 'look at me now', 'monster', 'good life')\n",
    "hitz = list(jams)\n",
    "print(hitz)\n",
    "\n",
    "hitz.remove(\"good life\")\n",
    "jams = tuple(hitz)\n",
    "print(jams)"
   ]
  },
  {
   "cell_type": "code",
   "execution_count": 156,
   "id": "83dea54c",
   "metadata": {},
   "outputs": [
    {
     "name": "stdout",
     "output_type": "stream",
     "text": [
      "in the club\n",
      "candy shop\n",
      "ayo technology\n",
      "look at me now\n",
      "monster\n",
      "good life\n"
     ]
    }
   ],
   "source": [
    "jams = ('in the club', 'candy shop', 'ayo technology', 'look at me now', 'monster', 'good life')\n",
    "(a, b, c, d, e, f) = jams\n",
    "print(a)\n",
    "print(b)\n",
    "print(c)\n",
    "print(d)\n",
    "print(e)\n",
    "print(f)"
   ]
  },
  {
   "cell_type": "code",
   "execution_count": 157,
   "id": "a02b00ea",
   "metadata": {},
   "outputs": [
    {
     "name": "stdout",
     "output_type": "stream",
     "text": [
      "in the club\n",
      "candy shop\n",
      "['ayo technology', 'look at me now', 'monster', 'good life']\n"
     ]
    }
   ],
   "source": [
    "jams = ('in the club', 'candy shop', 'ayo technology', 'look at me now', 'monster', 'good life')\n",
    "(a, b, *c) = jams\n",
    "print(a)\n",
    "print(b)\n",
    "print(c)"
   ]
  },
  {
   "cell_type": "code",
   "execution_count": 158,
   "id": "0bb7cb51",
   "metadata": {},
   "outputs": [
    {
     "name": "stdout",
     "output_type": "stream",
     "text": [
      "in the club\n",
      "['candy shop', 'ayo technology', 'look at me now', 'monster']\n",
      "good life\n"
     ]
    }
   ],
   "source": [
    "jams = ('in the club', 'candy shop', 'ayo technology', 'look at me now', 'monster', 'good life')\n",
    "(a, *b, c) = jams\n",
    "print(a)\n",
    "print(b)\n",
    "print(c)"
   ]
  },
  {
   "cell_type": "code",
   "execution_count": 159,
   "id": "995ebe3a",
   "metadata": {},
   "outputs": [
    {
     "name": "stdout",
     "output_type": "stream",
     "text": [
      "in da club\n",
      "candy shop\n",
      "ayo technology\n",
      "look at me now\n",
      "monster\n",
      "good life\n"
     ]
    }
   ],
   "source": [
    "jams = ('in da club', 'candy shop', 'ayo technology', 'look at me now', 'monster', 'good life')\n",
    "for x in jams:\n",
    "    print(x)"
   ]
  },
  {
   "cell_type": "code",
   "execution_count": 160,
   "id": "4aacee43",
   "metadata": {},
   "outputs": [
    {
     "name": "stdout",
     "output_type": "stream",
     "text": [
      "in da club\n",
      "candy shop\n",
      "ayo technology\n",
      "look at me now\n",
      "monster\n",
      "good life\n"
     ]
    }
   ],
   "source": [
    "jams = ('in da club', 'candy shop', 'ayo technology', 'look at me now', 'monster', 'good life')\n",
    "for i in range(len(jams)):\n",
    "    print(jams[i])"
   ]
  },
  {
   "cell_type": "code",
   "execution_count": 161,
   "id": "fbe5d246",
   "metadata": {},
   "outputs": [
    {
     "name": "stdout",
     "output_type": "stream",
     "text": [
      "in da club\n",
      "candy shop\n",
      "ayo technology\n",
      "look at me now\n",
      "monster\n",
      "good life\n"
     ]
    }
   ],
   "source": [
    "jams = ('in da club', 'candy shop', 'ayo technology', 'look at me now', 'monster', 'good life')\n",
    "i = 0\n",
    "while i < len(jams):\n",
    "    print(jams[i])\n",
    "    i = i + 1"
   ]
  },
  {
   "cell_type": "code",
   "execution_count": 162,
   "id": "fd011d34",
   "metadata": {},
   "outputs": [
    {
     "name": "stdout",
     "output_type": "stream",
     "text": [
      "red\n",
      "blue\n",
      "green\n",
      "yellow\n",
      "purple\n",
      "red\n",
      "blue\n",
      "green\n",
      "yellow\n",
      "purple\n",
      "red\n",
      "blue\n",
      "green\n",
      "yellow\n",
      "purple\n",
      "red\n",
      "blue\n",
      "green\n",
      "yellow\n",
      "purple\n"
     ]
    }
   ],
   "source": [
    "colors = ('red', 'blue', 'green', 'yellow', 'purple')\n",
    "(a,b,c,d,e) = colors\n",
    "print(a)\n",
    "print(b)\n",
    "print(c)\n",
    "print(d)\n",
    "print(e)\n",
    "\n",
    "for x in (colors):\n",
    "    print(x)\n",
    "    \n",
    "for i in range(len(colors)):\n",
    "    print(colors[i])\n",
    "\n",
    "i = 0\n",
    "while i < len(colors):\n",
    "    print(colors[i])\n",
    "    i = i + 1"
   ]
  },
  {
   "cell_type": "code",
   "execution_count": 163,
   "id": "98e0fc2c",
   "metadata": {},
   "outputs": [
    {
     "name": "stdout",
     "output_type": "stream",
     "text": [
      "4\n"
     ]
    }
   ],
   "source": [
    "colors = ('red', 'blue', 'green', 'yellow', 'purple', 'red', 'blue', 'green', 'yellow', 'purple', 'red', 'blue', 'green', 'yellow', 'purple', 'red', 'blue', 'green', 'yellow', 'purple')\n",
    "blu = colors.count('blue')\n",
    "print(blu)"
   ]
  },
  {
   "cell_type": "code",
   "execution_count": 164,
   "id": "534cba0f",
   "metadata": {},
   "outputs": [
    {
     "name": "stdout",
     "output_type": "stream",
     "text": [
      "2\n"
     ]
    }
   ],
   "source": [
    "gre = colors.index('green')\n",
    "print(gre)"
   ]
  },
  {
   "cell_type": "code",
   "execution_count": 166,
   "id": "ea54d2a6",
   "metadata": {},
   "outputs": [
    {
     "name": "stdout",
     "output_type": "stream",
     "text": [
      "5\n",
      "<class 'set'>\n"
     ]
    }
   ],
   "source": [
    "colors = {'red', 'blue', 'green', 'yellow', 'purple'}\n",
    "print(len(colors))\n",
    "print(type(colors))"
   ]
  },
  {
   "cell_type": "code",
   "execution_count": 167,
   "id": "4796b915",
   "metadata": {},
   "outputs": [
    {
     "name": "stdout",
     "output_type": "stream",
     "text": [
      "('balls', 'racket', 'net', 'poles')\n"
     ]
    }
   ],
   "source": [
    "new = (\"balls\", \"racket\", \"net\", \"poles\")\n",
    "old = ((\"balls\", \"racket\", \"net\", \"poles\"))\n",
    "print(old)"
   ]
  },
  {
   "cell_type": "code",
   "execution_count": 169,
   "id": "477f6953",
   "metadata": {},
   "outputs": [
    {
     "name": "stdout",
     "output_type": "stream",
     "text": [
      "('balls', 'racket', 'net', 'poles')\n"
     ]
    }
   ],
   "source": [
    "\"balls\", \"racket\", \"net\", \"poles\"\n",
    "new = ((\"balls\", \"racket\", \"net\", \"poles\"))\n",
    "print(new)"
   ]
  },
  {
   "cell_type": "code",
   "execution_count": 171,
   "id": "e648a257",
   "metadata": {},
   "outputs": [
    {
     "name": "stdout",
     "output_type": "stream",
     "text": [
      "{'poles', 'net', 'balls', 'racket'}\n"
     ]
    }
   ],
   "source": [
    "game = set((new))\n",
    "print(game)"
   ]
  },
  {
   "cell_type": "code",
   "execution_count": 172,
   "id": "00ad56bb",
   "metadata": {},
   "outputs": [
    {
     "name": "stdout",
     "output_type": "stream",
     "text": [
      "poles\n",
      "net\n",
      "balls\n",
      "racket\n",
      "True\n"
     ]
    }
   ],
   "source": [
    "for x in game:\n",
    "    print(x)\n",
    "    \n",
    "print(\"balls\" in game)"
   ]
  },
  {
   "cell_type": "code",
   "execution_count": 173,
   "id": "84be7eff",
   "metadata": {},
   "outputs": [
    {
     "name": "stdout",
     "output_type": "stream",
     "text": [
      "{'poles', 'racket', 'towel', 'net', 'balls', 'shorts'}\n",
      "{'poles', 'racket', 'towel', 'net', 'balls', 'shorts', 'shoes'}\n",
      "{'racket', 'towel', 'net', 'balls', 'shorts', 'shoes'}\n",
      "{'racket', 'towel', 'balls', 'shorts', 'shoes'}\n",
      "{'racket', 'towel', 'balls', 'shorts', 'shoes'}\n",
      "{'racket', 'towel', 'balls', 'shorts', 'shoes'}\n",
      "{'racket', 'towel', 'balls', 'shorts', 'shoes'}\n",
      "{'racket', 'towel', 'balls', 'shorts', 'shoes'}\n",
      "{'racket', 'towel', 'balls', 'shorts', 'shoes'}\n",
      "{'racket', 'towel', 'balls', 'shorts', 'shoes'}\n",
      "True\n"
     ]
    }
   ],
   "source": [
    "ping = {'towel', 'shorts'}\n",
    "game.update(ping)\n",
    "print(game)\n",
    "\n",
    "game.add(\"shoes\")\n",
    "print(game)\n",
    "\n",
    "game.pop()\n",
    "print(game)\n",
    "\n",
    "game.remove(\"net\")\n",
    "print(game)\n",
    "\n",
    "game.discard(\"poles\")\n",
    "print(game)\n",
    "\n",
    "for x in game:\n",
    "    print(game)\n",
    "    \n",
    "print(\"balls\" in game)"
   ]
  },
  {
   "cell_type": "code",
   "execution_count": 174,
   "id": "4ac03eb4",
   "metadata": {},
   "outputs": [
    {
     "name": "stdout",
     "output_type": "stream",
     "text": [
      "{'racquet', 'turf', 'balls', 'poles', 'racket', 'net', 'table', 'shoes'}\n"
     ]
    }
   ],
   "source": [
    "t = {'racquet', 'balls', \"net\", \"poles\", \"table\"}\n",
    "tt = {'balls', 'racket', 'poles', 'turf', 'net', 'shoes'}\n",
    "ball_game = t.union(tt)\n",
    "print(ball_game)"
   ]
  },
  {
   "cell_type": "code",
   "execution_count": 175,
   "id": "34a85b6d",
   "metadata": {},
   "outputs": [
    {
     "name": "stdout",
     "output_type": "stream",
     "text": [
      "{'poles', 'net', 'balls'}\n"
     ]
    }
   ],
   "source": [
    "t = {'racquet', 'balls', \"net\", \"poles\", \"table\"}\n",
    "tt = {'balls', 'racket', 'poles', 'turf', 'net', 'shoes'}\n",
    "t.intersection_update(tt)\n",
    "print(t)"
   ]
  },
  {
   "cell_type": "code",
   "execution_count": 176,
   "id": "b078317e",
   "metadata": {},
   "outputs": [
    {
     "name": "stdout",
     "output_type": "stream",
     "text": [
      "{'poles', 'net', 'balls'}\n"
     ]
    }
   ],
   "source": [
    "t = {'racquet', 'balls', \"net\", \"poles\", \"table\"}\n",
    "tt = {'balls', 'racket', 'poles', 'turf', 'net', 'shoes'}\n",
    "ttt = t.intersection(tt)\n",
    "print(ttt)"
   ]
  },
  {
   "cell_type": "code",
   "execution_count": 177,
   "id": "5cc07554",
   "metadata": {},
   "outputs": [
    {
     "name": "stdout",
     "output_type": "stream",
     "text": [
      "{'racket', 'turf', 'racquet', 'table', 'shoes'}\n"
     ]
    }
   ],
   "source": [
    "t = {'racquet', 'balls', \"net\", \"poles\", \"table\"}\n",
    "tt = {'balls', 'racket', 'poles', 'turf', 'net', 'shoes'}\n",
    "t.symmetric_difference_update(tt)\n",
    "print(t)"
   ]
  },
  {
   "cell_type": "code",
   "execution_count": 178,
   "id": "f2ecea3c",
   "metadata": {},
   "outputs": [
    {
     "name": "stdout",
     "output_type": "stream",
     "text": [
      "{1: 'Mustapha', 2: 'Alero', 3: 'Shuaib', 4: 'Janet'}\n"
     ]
    }
   ],
   "source": [
    "student = {1: 'Mustapha', 2: 'Alero', 3: 'Shuaib', 4: 'Janet'}\n",
    "print(student)"
   ]
  },
  {
   "cell_type": "code",
   "execution_count": 179,
   "id": "f187b7f5",
   "metadata": {},
   "outputs": [
    {
     "name": "stdout",
     "output_type": "stream",
     "text": [
      "4\n"
     ]
    }
   ],
   "source": [
    "print(len(student))"
   ]
  },
  {
   "cell_type": "code",
   "execution_count": 180,
   "id": "44d735e3",
   "metadata": {},
   "outputs": [
    {
     "name": "stdout",
     "output_type": "stream",
     "text": [
      "<class 'dict'>\n"
     ]
    }
   ],
   "source": [
    "print(type(student))"
   ]
  },
  {
   "cell_type": "code",
   "execution_count": 181,
   "id": "25a3e9a5",
   "metadata": {},
   "outputs": [
    {
     "name": "stdout",
     "output_type": "stream",
     "text": [
      "61\n",
      "['black', 'white', 'sky_blue']\n"
     ]
    }
   ],
   "source": [
    "name = {'first': 'olabisi', 'middle': 'modupe', 'last': 'agbaje', 'age': 61, 'status': 'widowed', 'color': ['red', 'blue', 'purple']}\n",
    "name2 = {'first': 'gbenga', 'middle': 'ibrahim', 'last': 'amzart', 'age': 41, 'status': 'single', 'color': ['black', 'white', 'sky_blue']}\n",
    "\n",
    "print(name.get('age'))\n",
    "print(name2.get('color'))"
   ]
  },
  {
   "cell_type": "code",
   "execution_count": 182,
   "id": "653ada68",
   "metadata": {},
   "outputs": [
    {
     "name": "stdout",
     "output_type": "stream",
     "text": [
      "dict_values(['olabisi', 'modupe', 'agbaje', 61, 'widowed', ['red', 'blue', 'purple']]) dict_values(['gbenga', 'ibrahim', 'amzart', 41, 'single', ['black', 'white', 'sky_blue']])\n"
     ]
    }
   ],
   "source": [
    "x = name.values()\n",
    "y = name2.values()\n",
    "print(x, y)"
   ]
  },
  {
   "cell_type": "code",
   "execution_count": 184,
   "id": "f9fc0656",
   "metadata": {},
   "outputs": [
    {
     "name": "stdout",
     "output_type": "stream",
     "text": [
      "dict_values(['olabisi', 'modupe', 'agbaje', 61, 'widowed', ['red', 'blue', 'purple']])\n",
      "1.59\n"
     ]
    }
   ],
   "source": [
    "name = {'first': 'olabisi', 'middle': 'modupe', 'last': 'agbaje', 'age': 61, 'status': 'widowed', 'color': ['red', 'blue', 'purple']}\n",
    "name2 = {'first': 'gbenga', 'middle': 'ibrahim', 'last': 'amzart', 'age': 41, 'status': 'single', 'color': ['black', 'white', 'sky_blue']}\n",
    "\n",
    "x = name.values()\n",
    "print(x)\n",
    "\n",
    "name['height'] = 1.59\n",
    "print(name['height'])"
   ]
  },
  {
   "cell_type": "code",
   "execution_count": 185,
   "id": "ae2c8ef5",
   "metadata": {},
   "outputs": [
    {
     "name": "stdout",
     "output_type": "stream",
     "text": [
      "Yes, agbaje is in name above.\n",
      "No, tayo is not in name2 above.\n"
     ]
    }
   ],
   "source": [
    "name = {'first': 'olabisi', 'middle': 'modupe', 'last': 'agbaje', 'age': 61, 'status': 'widowed', 'color': ['red', 'blue', 'purple']}\n",
    "name2 = {'first': 'gbenga', 'middle': 'ibrahim', 'last': 'amzart', 'age': 41, 'status': 'single', 'color': ['black', 'white', 'sky_blue']}\n",
    "\n",
    "if \"agbaje\" in name.values():\n",
    "    print(\"Yes, agbaje is in name above.\")\n",
    "else:\n",
    "    print(\"No, agbaje is not in name above.\")\n",
    "\n",
    "if \"tayo\" in name2.values():\n",
    "    print(\"Yes, tayo is in name2 above.\")\n",
    "else:\n",
    "    print(\"No, tayo is not in name2 above.\")"
   ]
  },
  {
   "cell_type": "code",
   "execution_count": 186,
   "id": "2cd8d8e2",
   "metadata": {},
   "outputs": [
    {
     "name": "stdout",
     "output_type": "stream",
     "text": [
      "{'first': 'gbenga', 'middle': 'ibrahim', 'last': 'amzart', 'age': 41, 'status': 'engaged', 'color': ['black', 'white', 'sky_blue']}\n",
      "{'first': 'gbenga', 'middle': 'ibrahim', 'last': 'amzart', 'age': 41, 'status': 'engaged', 'color': ['black', 'white', 'sky_blue']}\n"
     ]
    }
   ],
   "source": [
    "name2.update({'status': 'engaged'})\n",
    "print(name2)\n",
    "\n",
    "name2.update({'status': 'engaged'})\n",
    "print(name2)"
   ]
  },
  {
   "cell_type": "code",
   "execution_count": 187,
   "id": "e4ceeab8",
   "metadata": {},
   "outputs": [
    {
     "name": "stdout",
     "output_type": "stream",
     "text": [
      "{'first': 'olabisi', 'middle': 'modupe', 'last': 'agbaje', 'age': 61, 'status': 'widowed', 'color': ['red', 'blue', 'purple']} {'first': 'gbenga', 'middle': 'ibrahim', 'last': 'amzart', 'age': 41, 'status': 'engaged', 'color': ['black', 'white', 'sky_blue']}\n"
     ]
    }
   ],
   "source": [
    "print(name, name2)"
   ]
  },
  {
   "cell_type": "code",
   "execution_count": 188,
   "id": "0efb8c18",
   "metadata": {},
   "outputs": [
    {
     "name": "stdout",
     "output_type": "stream",
     "text": [
      "{'first': 'olabisi', 'middle': 'modupe', 'last': 'agbaje', 'age': 61, 'status': 'widowed', 'color': ['red', 'blue', 'purple']} {'first': 'gbenga', 'middle': 'ibrahim', 'last': 'amzart', 'age': 41, 'status': 'married', 'color': ['black', 'white', 'sky_blue']}\n"
     ]
    }
   ],
   "source": [
    "name2[\"status\"] = \"married\"\n",
    "print(name, name2)"
   ]
  },
  {
   "cell_type": "code",
   "execution_count": 189,
   "id": "2f65e174",
   "metadata": {},
   "outputs": [
    {
     "name": "stdout",
     "output_type": "stream",
     "text": [
      "{'first': 'olabisi', 'middle': 'modupe', 'last': 'agbaje', 'status': 'widowed', 'color': ['red', 'blue', 'purple']} {'first': 'gbenga', 'middle': 'ibrahim', 'last': 'amzart', 'age': 41, 'status': 'married'}\n"
     ]
    }
   ],
   "source": [
    "name.pop('age')\n",
    "name2.pop(\"color\")\n",
    "print(name, name2)"
   ]
  },
  {
   "cell_type": "code",
   "execution_count": 190,
   "id": "317c047b",
   "metadata": {},
   "outputs": [
    {
     "name": "stdout",
     "output_type": "stream",
     "text": [
      "{'first': 'olabisi', 'middle': 'modupe', 'last': 'agbaje', 'status': 'widowed'} {'first': 'gbenga', 'middle': 'ibrahim', 'last': 'amzart', 'age': 41, 'status': 'married'}\n"
     ]
    }
   ],
   "source": [
    "del name[\"color\"]\n",
    "print(name, name2)"
   ]
  },
  {
   "cell_type": "code",
   "execution_count": 191,
   "id": "bcda544a",
   "metadata": {},
   "outputs": [
    {
     "name": "stdout",
     "output_type": "stream",
     "text": [
      "first\n",
      "middle\n",
      "last\n",
      "status\n",
      "first\n",
      "middle\n",
      "last\n",
      "age\n",
      "status\n"
     ]
    }
   ],
   "source": [
    "for x in name:\n",
    "    print(x)\n",
    "for x in name2:\n",
    "    print(x)"
   ]
  },
  {
   "cell_type": "code",
   "execution_count": 192,
   "id": "f02cd6c9",
   "metadata": {},
   "outputs": [
    {
     "name": "stdout",
     "output_type": "stream",
     "text": [
      "olabisi\n",
      "modupe\n",
      "agbaje\n",
      "widowed\n",
      "gbenga\n",
      "ibrahim\n",
      "amzart\n",
      "41\n",
      "married\n"
     ]
    }
   ],
   "source": [
    "for x in name:\n",
    "    print(name[x])\n",
    "for x in  name2:\n",
    "    print(name2[x])"
   ]
  },
  {
   "cell_type": "code",
   "execution_count": 193,
   "id": "3788ba1f",
   "metadata": {},
   "outputs": [
    {
     "name": "stdout",
     "output_type": "stream",
     "text": [
      "olabisi\n",
      "modupe\n",
      "agbaje\n",
      "widowed\n",
      "first\n",
      "middle\n",
      "last\n",
      "age\n",
      "status\n"
     ]
    }
   ],
   "source": [
    "for x in name.values():\n",
    "    print(x)\n",
    "    \n",
    "for x in name2.keys():\n",
    "    print(x)"
   ]
  },
  {
   "cell_type": "code",
   "execution_count": 194,
   "id": "05acbc05",
   "metadata": {},
   "outputs": [
    {
     "name": "stdout",
     "output_type": "stream",
     "text": [
      "first olabisi\n",
      "middle modupe\n",
      "last agbaje\n",
      "status widowed\n"
     ]
    }
   ],
   "source": [
    "for x, y in name.items():\n",
    "    print(x, y)"
   ]
  },
  {
   "cell_type": "code",
   "execution_count": 195,
   "id": "c8cb2b36",
   "metadata": {},
   "outputs": [
    {
     "name": "stdout",
     "output_type": "stream",
     "text": [
      "{'first': 'gbenga', 'middle': 'ibrahim', 'last': 'amzart', 'age': 41, 'status': 'married'}\n"
     ]
    }
   ],
   "source": [
    "name = name2.copy()\n",
    "print(name)"
   ]
  },
  {
   "cell_type": "code",
   "execution_count": 196,
   "id": "4aafa906",
   "metadata": {},
   "outputs": [
    {
     "name": "stdout",
     "output_type": "stream",
     "text": [
      "{'first': 'gbenga', 'middle': 'ibrahim', 'last': 'amzart', 'age': 41, 'status': 'married'} {'first': 'gbenga', 'middle': 'ibrahim', 'last': 'amzart', 'age': 41, 'status': 'married'}\n"
     ]
    }
   ],
   "source": [
    "x, y = name, name2\n",
    "print(x, y)"
   ]
  },
  {
   "cell_type": "code",
   "execution_count": 197,
   "id": "e8e619c5",
   "metadata": {},
   "outputs": [
    {
     "name": "stdout",
     "output_type": "stream",
     "text": [
      "{'first': 'gbenga', 'middle': 'ibrahim', 'last': 'amzart', 'age': 41, 'status': 'married'}\n"
     ]
    }
   ],
   "source": [
    "register = dict(name)\n",
    "print(register)"
   ]
  },
  {
   "cell_type": "code",
   "execution_count": 198,
   "id": "f2c2c0d3",
   "metadata": {},
   "outputs": [
    {
     "name": "stdout",
     "output_type": "stream",
     "text": [
      "{1: {'name': 'gift', 'age': 9, 'gender': 'female'}, 2: {'name': 'ibrahim', 'age': 10, 'gender': 'male'}, 3: {'name': 'paris', 'age': 9, 'gender': 'female'}}\n"
     ]
    }
   ],
   "source": [
    "JSS1 ={\n",
    "    1:{\n",
    "        \"name\": \"gift\",\n",
    "        \"age\": 9,\n",
    "        \"gender\": \"female\"\n",
    "    },\n",
    "    2:{\n",
    "        \"name\": \"ibrahim\",\n",
    "        \"age\": 10,\n",
    "        \"gender\": \"male\"\n",
    "    },\n",
    "    3:{\n",
    "        \"name\": \"paris\",\n",
    "        \"age\": 9,\n",
    "        \"gender\": \"female\"\n",
    "    }\n",
    "}\n",
    "print(JSS1)"
   ]
  },
  {
   "cell_type": "code",
   "execution_count": 199,
   "id": "aa41cd9c",
   "metadata": {},
   "outputs": [
    {
     "name": "stdout",
     "output_type": "stream",
     "text": [
      "male\n"
     ]
    }
   ],
   "source": [
    "print(JSS1[2][\"gender\"])"
   ]
  },
  {
   "cell_type": "code",
   "execution_count": 200,
   "id": "e81ff113",
   "metadata": {},
   "outputs": [
    {
     "name": "stdout",
     "output_type": "stream",
     "text": [
      "{1: {'name': 'gift', 'age': 9, 'gender': 'female'}, 2: {'name': 'ibrahim', 'age': 10, 'gender': 'male'}, 3: {'name': 'paris', 'age': 9, 'gender': 'female'}} {4: {'name': 'tofunmi', 'age': 8, 'gender': 'female'}, 5: {'name': 'success', 'age': 10, 'gender': 'male'}, 6: {'name': 'taiwo', 'age': 10, 'gender': 'male'}}\n"
     ]
    }
   ],
   "source": [
    "student4 = {\"name\": \"tofunmi\", \"age\": 8, \"gender\":\"female\"}\n",
    "student5 = {\"name\": \"success\", \"age\": 10, \"gender\": \"male\"}\n",
    "student6 = {\"name\": \"taiwo\", \"age\": 10, \"gender\": \"male\"}\n",
    "\n",
    "JSS2 = {4:student4, 5:student5, 6:student6}\n",
    "print(JSS1, JSS2)"
   ]
  },
  {
   "cell_type": "code",
   "execution_count": 201,
   "id": "0956838f",
   "metadata": {},
   "outputs": [
    {
     "name": "stdout",
     "output_type": "stream",
     "text": [
      "{1: {1: {'name': 'gift', 'age': 9, 'gender': 'female'}, 2: {'name': 'ibrahim', 'age': 10, 'gender': 'male'}, 3: {'name': 'paris', 'age': 9, 'gender': 'female'}}, 2: {4: {'name': 'tofunmi', 'age': 8, 'gender': 'female'}, 5: {'name': 'success', 'age': 10, 'gender': 'male'}, 6: {'name': 'taiwo', 'age': 10, 'gender': 'male'}}}\n"
     ]
    }
   ],
   "source": [
    "JSS3 = {1:JSS1, 2:JSS2}\n",
    "print(JSS3)"
   ]
  },
  {
   "cell_type": "code",
   "execution_count": 202,
   "id": "697995ba",
   "metadata": {},
   "outputs": [
    {
     "name": "stdout",
     "output_type": "stream",
     "text": [
      "taiwo\n"
     ]
    }
   ],
   "source": [
    "JSS3 = {1: JSS1, 2: JSS2}\n",
    "\n",
    "# Accessing the name of the student with key 6 in JSS2\n",
    "student_name = JSS3[2][6][\"name\"]\n",
    "print(student_name)"
   ]
  },
  {
   "cell_type": "code",
   "execution_count": 203,
   "id": "b93bf56d",
   "metadata": {},
   "outputs": [
    {
     "name": "stdout",
     "output_type": "stream",
     "text": [
      "{1: {1: {'age': 9, 'gender': 'female'}, 2: {'name': 'ibrahim', 'age': 10, 'gender': 'male'}, 3: {'name': 'paris', 'age': 9, 'gender': 'female'}}, 2: {4: {'name': 'tofunmi', 'age': 8, 'gender': 'female'}, 5: {'name': 'success', 'age': 10, 'gender': 'male'}, 6: {'name': 'taiwo', 'age': 10, 'gender': 'male'}}}\n"
     ]
    }
   ],
   "source": [
    "JSS3[1][1].pop(\"name\")\n",
    "print(JSS3)"
   ]
  },
  {
   "cell_type": "code",
   "execution_count": 204,
   "id": "7d85b985",
   "metadata": {},
   "outputs": [
    {
     "name": "stdout",
     "output_type": "stream",
     "text": [
      "{1: {1: {'age': 9, 'gender': 'female', 'name': 'damilola'}, 2: {'name': 'ibrahim', 'age': 10, 'gender': 'male'}, 3: {'name': 'paris', 'age': 9, 'gender': 'female'}}, 2: {4: {'name': 'tofunmi', 'age': 8, 'gender': 'female'}, 5: {'name': 'success', 'age': 10, 'gender': 'male'}, 6: {'name': 'taiwo', 'age': 10, 'gender': 'male'}}}\n"
     ]
    }
   ],
   "source": [
    "JSS3[1][1].update({\"name\": \"damilola\"})\n",
    "print(JSS3)"
   ]
  },
  {
   "cell_type": "code",
   "execution_count": 205,
   "id": "722defe7",
   "metadata": {},
   "outputs": [
    {
     "name": "stdout",
     "output_type": "stream",
     "text": [
      "a is less than b\n"
     ]
    }
   ],
   "source": [
    "a = 230\n",
    "b = 440\n",
    "if a < b:\n",
    "    print (\"a is less than b\")\n",
    "else:\n",
    "    print(\"a is greater than b\")"
   ]
  },
  {
   "cell_type": "code",
   "execution_count": 206,
   "id": "65653483",
   "metadata": {},
   "outputs": [
    {
     "name": "stdout",
     "output_type": "stream",
     "text": [
      "B\n"
     ]
    }
   ],
   "source": [
    "a = 230\n",
    "b = 440\n",
    "print(\"A\") if a > b else print(\"=\") if a == b else print(\"B\")"
   ]
  },
  {
   "cell_type": "code",
   "execution_count": 207,
   "id": "296f4123",
   "metadata": {},
   "outputs": [
    {
     "name": "stdout",
     "output_type": "stream",
     "text": [
      "=\n"
     ]
    }
   ],
   "source": [
    "a = 330\n",
    "b = 330\n",
    "print(\"A\") if a > b else print(\"=\") if a == b else print(\"B\")"
   ]
  },
  {
   "cell_type": "code",
   "execution_count": 208,
   "id": "95496089",
   "metadata": {},
   "outputs": [
    {
     "name": "stdout",
     "output_type": "stream",
     "text": [
      "both conditions are true\n"
     ]
    }
   ],
   "source": [
    "a = 280\n",
    "b = 75\n",
    "c = 560\n",
    "if a > b and c > a:\n",
    "    print(\"both conditions are true\")"
   ]
  },
  {
   "cell_type": "code",
   "execution_count": 209,
   "id": "a076a399",
   "metadata": {},
   "outputs": [
    {
     "name": "stdout",
     "output_type": "stream",
     "text": [
      "one of the conditions are True\n"
     ]
    }
   ],
   "source": [
    "if a < b or b < c:\n",
    "    print(\"one of the conditions are True\")"
   ]
  },
  {
   "cell_type": "code",
   "execution_count": 210,
   "id": "067e7761",
   "metadata": {},
   "outputs": [
    {
     "name": "stdout",
     "output_type": "stream",
     "text": [
      "not True\n"
     ]
    }
   ],
   "source": [
    "if not b > c:\n",
    "    print(\"not True\")"
   ]
  },
  {
   "cell_type": "code",
   "execution_count": 211,
   "id": "fff9501b",
   "metadata": {},
   "outputs": [
    {
     "name": "stdout",
     "output_type": "stream",
     "text": [
      "greater than 10\n",
      "also greater than 20\n"
     ]
    }
   ],
   "source": [
    "x = 50\n",
    "if x > 10:\n",
    "    print(\"greater than 10\")\n",
    "    if x >20:\n",
    "        print(\"also greater than 20\")\n",
    "    else:\n",
    "        print(\"but not above 40\")"
   ]
  },
  {
   "cell_type": "code",
   "execution_count": 213,
   "id": "1a05e295",
   "metadata": {},
   "outputs": [
    {
     "name": "stdout",
     "output_type": "stream",
     "text": [
      "1\n",
      "2\n",
      "3\n",
      "4\n",
      "5\n"
     ]
    }
   ],
   "source": [
    "i = 1\n",
    "while i < 6:\n",
    "    print(i)\n",
    "    i += 1"
   ]
  },
  {
   "cell_type": "code",
   "execution_count": 215,
   "id": "92f3613a",
   "metadata": {},
   "outputs": [
    {
     "name": "stdout",
     "output_type": "stream",
     "text": [
      "1\n",
      "2\n",
      "3\n"
     ]
    }
   ],
   "source": [
    "i = 1\n",
    "while i < 6:\n",
    "    print(i)\n",
    "    if i == 3:\n",
    "        break\n",
    "    i += 1"
   ]
  },
  {
   "cell_type": "markdown",
   "id": "4a124fe0",
   "metadata": {},
   "source": [
    "a = 66\n",
    "b = 57\n",
    "\n",
    "if a > b:\n",
    "        print(\"a is greater than b\")\n",
    "else:\n",
    "        print(\"a is not greater than b\")\n"
   ]
  },
  {
   "cell_type": "code",
   "execution_count": 1,
   "id": "b330e497",
   "metadata": {},
   "outputs": [
    {
     "name": "stdout",
     "output_type": "stream",
     "text": [
      "a is notgreater than b\n"
     ]
    }
   ],
   "source": [
    "a = 67\n",
    "b = 69\n",
    "\n",
    "if a > b:\n",
    "    print(\"a isgreater than b\")\n",
    "else:\n",
    "    print(\"a is notgreater than b\")"
   ]
  },
  {
   "cell_type": "code",
   "execution_count": 4,
   "id": "7aa21376",
   "metadata": {},
   "outputs": [
    {
     "name": "stdout",
     "output_type": "stream",
     "text": [
      "a is less than b\n"
     ]
    }
   ],
   "source": [
    "if a < b:\n",
    "    print(\"a is less than b\")\n",
    "elif a == b:\n",
    "    print(\"a isequal to b\")\n",
    "else:\n",
    "    print(\"a is greater than b\")"
   ]
  },
  {
   "cell_type": "code",
   "execution_count": 9,
   "id": "ca33fd6b",
   "metadata": {},
   "outputs": [
    {
     "name": "stdout",
     "output_type": "stream",
     "text": [
      "B\n"
     ]
    }
   ],
   "source": [
    "a = 7\n",
    "b = 24\n",
    "if a > b:\n",
    "    print(\"a is greater than b\")\n",
    "else: \n",
    "    print(\"B\")"
   ]
  },
  {
   "cell_type": "code",
   "execution_count": 17,
   "id": "2ca15d58",
   "metadata": {},
   "outputs": [
    {
     "name": "stdout",
     "output_type": "stream",
     "text": [
      "B\n"
     ]
    }
   ],
   "source": [
    "c = 13\n",
    "if a > b:\n",
    "    print(\"A\")\n",
    "elif a < c:\n",
    "    print(\"B\")\n",
    "else:\n",
    "    print(\"C\")\n",
    "\n",
    "if a > b and c > a:\n",
    "    print(\"both conditions are true\")"
   ]
  },
  {
   "cell_type": "code",
   "execution_count": 18,
   "id": "b525a5b5",
   "metadata": {},
   "outputs": [
    {
     "name": "stdout",
     "output_type": "stream",
     "text": [
      "both conditions are true\n"
     ]
    }
   ],
   "source": [
    "a = 8\n",
    "b = 4\n",
    "c = 13\n",
    "if a > b and c > a:\n",
    "    print(\"both conditions are true\")"
   ]
  },
  {
   "cell_type": "code",
   "execution_count": 20,
   "id": "b45ff5cd",
   "metadata": {},
   "outputs": [
    {
     "name": "stdout",
     "output_type": "stream",
     "text": [
      "at least one of the  conditions are true\n",
      "a is less than b\n"
     ]
    }
   ],
   "source": [
    "if  a > b or a > c:\n",
    "    print(\"at least one of the  conditions are true\")\n",
    "if  not a < b:\n",
    "    print(\"a is less than b\")"
   ]
  },
  {
   "cell_type": "code",
   "execution_count": 22,
   "id": "244c3eda",
   "metadata": {},
   "outputs": [
    {
     "name": "stdout",
     "output_type": "stream",
     "text": [
      "v is greater than 10\n",
      "v is greater than 50\n"
     ]
    }
   ],
   "source": [
    "v = 82\n",
    "if v > 10:\n",
    "    print(\"v is greater than 10\")\n",
    "    if v > 49:\n",
    "        print(\"v is greater than 50\")\n",
    "    else:\n",
    "        print(\"v is greater than 80\")"
   ]
  },
  {
   "cell_type": "code",
   "execution_count": 26,
   "id": "d0fa6ab7",
   "metadata": {},
   "outputs": [],
   "source": [
    "a = 78\n",
    "v = 148\n",
    "\n",
    "if v > a:\n",
    "    pass"
   ]
  },
  {
   "cell_type": "code",
   "execution_count": 27,
   "id": "4a8799cb",
   "metadata": {},
   "outputs": [],
   "source": [
    "a = 33\n",
    "b = 200\n",
    "\n",
    "if b > a:\n",
    "  pass"
   ]
  },
  {
   "cell_type": "code",
   "execution_count": 28,
   "id": "34fcea20",
   "metadata": {},
   "outputs": [
    {
     "name": "stdout",
     "output_type": "stream",
     "text": [
      "1\n",
      "2\n",
      "3\n",
      "4\n",
      "5\n",
      "1\n",
      "2\n",
      "3\n",
      "4\n",
      "5\n",
      "6\n",
      "7\n"
     ]
    }
   ],
   "source": [
    "i = 1\n",
    "while i < 6:\n",
    "  print(i)\n",
    "  i += 1\n",
    "    \n",
    "a = 1\n",
    "while a < 8:\n",
    "    print(a)\n",
    "    a += 1"
   ]
  },
  {
   "cell_type": "code",
   "execution_count": 30,
   "id": "6d38979c",
   "metadata": {},
   "outputs": [
    {
     "name": "stdout",
     "output_type": "stream",
     "text": [
      "1\n",
      "2\n",
      "3\n",
      "1\n",
      "2\n"
     ]
    }
   ],
   "source": [
    "i = 1\n",
    "while i < 6:\n",
    "  print(i)\n",
    "  if i == 3:\n",
    "    break\n",
    "  i += 1\n",
    "a = 1\n",
    "while a < 5:\n",
    "    print(a)\n",
    "    if a == 2:\n",
    "        break\n",
    "    a += 1\n",
    "    "
   ]
  },
  {
   "cell_type": "code",
   "execution_count": 31,
   "id": "09fab99d",
   "metadata": {},
   "outputs": [
    {
     "name": "stdout",
     "output_type": "stream",
     "text": [
      "2\n",
      "3\n",
      "4\n",
      "5\n",
      "7\n"
     ]
    }
   ],
   "source": [
    "a = 1\n",
    "while a < 7:\n",
    "    a += 1\n",
    "    if a == 6:\n",
    "        continue\n",
    "    print(a)"
   ]
  },
  {
   "cell_type": "code",
   "execution_count": 32,
   "id": "a1862699",
   "metadata": {},
   "outputs": [
    {
     "name": "stdout",
     "output_type": "stream",
     "text": [
      "1\n",
      "2\n",
      "3\n",
      "4\n",
      "5\n",
      "a is no longer less than 6\n"
     ]
    }
   ],
   "source": [
    "a = 1\n",
    "while a < 6:\n",
    "    print(a)\n",
    "    a += 1\n",
    "else:\n",
    "    print(\"a is no longer less than 6\")"
   ]
  },
  {
   "cell_type": "code",
   "execution_count": 33,
   "id": "96ccab80",
   "metadata": {},
   "outputs": [
    {
     "name": "stdout",
     "output_type": "stream",
     "text": [
      "volvo\n",
      "daewoo\n",
      "toyota\n"
     ]
    }
   ],
   "source": [
    "car = [\"volvo\", \"daewoo\", \"toyota\"]\n",
    "for x in car:\n",
    "    print(x)"
   ]
  },
  {
   "cell_type": "code",
   "execution_count": 34,
   "id": "f6a48c0c",
   "metadata": {},
   "outputs": [
    {
     "name": "stdout",
     "output_type": "stream",
     "text": [
      "d\n",
      "a\n",
      "e\n",
      "w\n",
      "o\n",
      "o\n"
     ]
    }
   ],
   "source": [
    "for x in \"daewoo\":\n",
    "    print(x)\n"
   ]
  },
  {
   "cell_type": "code",
   "execution_count": 37,
   "id": "35cbf26e",
   "metadata": {},
   "outputs": [
    {
     "name": "stdout",
     "output_type": "stream",
     "text": [
      "volvo\n",
      "daewoo\n",
      "toyota\n",
      "rap\n",
      "rap\n",
      "rnb\n",
      "pop\n",
      "pop\n",
      "jazz\n",
      "jazz\n"
     ]
    }
   ],
   "source": [
    "car = [\"volvo\", \"daewoo\", \"toyota\", \"nissan\"]\n",
    "for x in car:\n",
    "    print(x)\n",
    "    if x == \"toyota\":\n",
    "        break\n",
    "music = [\"rap\", \"rnb\", \"pop\", \"jazz\"]\n",
    "for x in music:\n",
    "    print(x)\n",
    "    if x == \"rnb\":\n",
    "        continue\n",
    "    print(x)"
   ]
  },
  {
   "cell_type": "code",
   "execution_count": 40,
   "id": "132d0b5b",
   "metadata": {},
   "outputs": [
    {
     "name": "stdout",
     "output_type": "stream",
     "text": [
      "0\n",
      "1\n",
      "2\n",
      "3\n",
      "4\n",
      "5\n",
      "6\n",
      "7\n",
      "8\n",
      "3\n",
      "4\n",
      "5\n",
      "6\n",
      "7\n",
      "8\n",
      "9\n",
      "10\n",
      "2\n",
      "6\n",
      "10\n"
     ]
    }
   ],
   "source": [
    "for x in  range(9):\n",
    "    print(x)\n",
    "    \n",
    "for x in range(3, 11):\n",
    "    print(x)\n",
    "    \n",
    "for x in  range(2, 12, 4):\n",
    "    print(x)"
   ]
  },
  {
   "cell_type": "code",
   "execution_count": 41,
   "id": "6d5281d4",
   "metadata": {},
   "outputs": [
    {
     "name": "stdout",
     "output_type": "stream",
     "text": [
      "0\n",
      "1\n",
      "2\n",
      "3\n",
      "4\n",
      "5\n",
      "6\n",
      "finally, finished.\n"
     ]
    }
   ],
   "source": [
    "for x in range(7):\n",
    "    print(x)\n",
    "else:\n",
    "    print(\"finally, finished.\")"
   ]
  },
  {
   "cell_type": "code",
   "execution_count": 42,
   "id": "4f69b323",
   "metadata": {},
   "outputs": [
    {
     "name": "stdout",
     "output_type": "stream",
     "text": [
      "toyota blue\n",
      "toyota grey\n",
      "toyota black\n",
      "toyota red\n",
      "rover blue\n",
      "rover grey\n",
      "rover black\n",
      "rover red\n",
      "ford blue\n",
      "ford grey\n",
      "ford black\n",
      "ford red\n",
      "mazda blue\n",
      "mazda grey\n",
      "mazda black\n",
      "mazda red\n"
     ]
    }
   ],
   "source": [
    "cars = ['toyota', 'rover', 'ford', 'mazda']\n",
    "colors = ['blue', 'grey', 'black', 'red']\n",
    "for x in cars:\n",
    "    for y in colors:\n",
    "        print(x, y)"
   ]
  },
  {
   "cell_type": "code",
   "execution_count": 43,
   "id": "ac34e8bb",
   "metadata": {},
   "outputs": [],
   "source": [
    "for x in [0, 1, 2]:\n",
    "  pass"
   ]
  },
  {
   "cell_type": "code",
   "execution_count": 50,
   "id": "960f05b5",
   "metadata": {},
   "outputs": [
    {
     "name": "stdout",
     "output_type": "stream",
     "text": [
      "Hello, from a function\n"
     ]
    }
   ],
   "source": [
    "def MyFunction():\n",
    "    print(\"Hello, from a function\")\n",
    "    \n",
    "MyFunction()"
   ]
  },
  {
   "cell_type": "code",
   "execution_count": 51,
   "id": "f84e9916",
   "metadata": {},
   "outputs": [
    {
     "name": "stdout",
     "output_type": "stream",
     "text": [
      "Tayo Agbaje\n",
      "Bayo Agbaje\n",
      "Soji Agbaje\n"
     ]
    }
   ],
   "source": [
    "def my_function(fname):\n",
    "    print(fname + \" Agbaje\")\n",
    "    \n",
    "my_function(\"Tayo\")\n",
    "my_function(\"Bayo\")\n",
    "my_function(\"Soji\")"
   ]
  },
  {
   "cell_type": "code",
   "execution_count": 54,
   "id": "29ee03dc",
   "metadata": {},
   "outputs": [
    {
     "name": "stdout",
     "output_type": "stream",
     "text": [
      "Gbenga Amzart\n"
     ]
    }
   ],
   "source": [
    "def my_function(fname, lname):\n",
    "    print(fname + \" \" + lname)\n",
    "my_function('Gbenga', 'Amzart')"
   ]
  },
  {
   "cell_type": "code",
   "execution_count": 55,
   "id": "ee8396b9",
   "metadata": {},
   "outputs": [
    {
     "ename": "TypeError",
     "evalue": "my_function() missing 1 required positional argument: 'lname'",
     "output_type": "error",
     "traceback": [
      "\u001b[1;31m---------------------------------------------------------------------------\u001b[0m",
      "\u001b[1;31mTypeError\u001b[0m                                 Traceback (most recent call last)",
      "Cell \u001b[1;32mIn[55], line 3\u001b[0m\n\u001b[0;32m      1\u001b[0m \u001b[38;5;28;01mdef\u001b[39;00m \u001b[38;5;21mmy_function\u001b[39m(fname, lname):\n\u001b[0;32m      2\u001b[0m     \u001b[38;5;28mprint\u001b[39m(fname \u001b[38;5;241m+\u001b[39m \u001b[38;5;124m\"\u001b[39m\u001b[38;5;124m \u001b[39m\u001b[38;5;124m\"\u001b[39m \u001b[38;5;241m+\u001b[39m lname)\n\u001b[1;32m----> 3\u001b[0m \u001b[43mmy_function\u001b[49m\u001b[43m(\u001b[49m\u001b[38;5;124;43m'\u001b[39;49m\u001b[38;5;124;43mGbenga\u001b[39;49m\u001b[38;5;124;43m'\u001b[39;49m\u001b[43m)\u001b[49m\n",
      "\u001b[1;31mTypeError\u001b[0m: my_function() missing 1 required positional argument: 'lname'"
     ]
    }
   ],
   "source": [
    "def my_function(fname, lname):\n",
    "    print(fname + \" \" + lname)\n",
    "my_function('Gbenga')"
   ]
  },
  {
   "cell_type": "code",
   "execution_count": 56,
   "id": "70c25d41",
   "metadata": {},
   "outputs": [
    {
     "name": "stdout",
     "output_type": "stream",
     "text": [
      "My last kid is Dayo\n"
     ]
    }
   ],
   "source": [
    "def my_function(*kids):\n",
    "    print(\"My last kid is \" + kids[1])\n",
    "    \n",
    "my_function('Sola', 'Dayo', 'Yele')"
   ]
  },
  {
   "cell_type": "code",
   "execution_count": 58,
   "id": "a4c47145",
   "metadata": {},
   "outputs": [
    {
     "name": "stdout",
     "output_type": "stream",
     "text": [
      "My last kid is Dayo\n"
     ]
    }
   ],
   "source": [
    "def my_function(child3, child2, child1):\n",
    "    print(\"My last kid is \" + child3)\n",
    "    \n",
    "my_function(child1 = 'Yele', child2 = 'Sola', child3 = 'Dayo')"
   ]
  },
  {
   "cell_type": "code",
   "execution_count": 60,
   "id": "aa4645bf",
   "metadata": {},
   "outputs": [
    {
     "name": "stdout",
     "output_type": "stream",
     "text": [
      "His last name is Amzart\n",
      "His last name is Amzart\n"
     ]
    }
   ],
   "source": [
    "def my_function(**kids):\n",
    "    print(\"His last name is \" + kids['lname'])\n",
    "\n",
    "my_function(fname=\"Gbenga\", lname=\"Amzart\")\n",
    "\n",
    "\n",
    "\n",
    "def my_function(**kids):\n",
    "    print(\"His last name is \" + kids['lname'])\n",
    "    \n",
    "my_function(fname = \"Gbenga\",  lname = \"Amzart\")"
   ]
  },
  {
   "cell_type": "code",
   "execution_count": 62,
   "id": "6a750162",
   "metadata": {},
   "outputs": [
    {
     "name": "stdout",
     "output_type": "stream",
     "text": [
      "I am from Ghana\n",
      "I am from Chad\n",
      "I am from Nigeria\n",
      "I am from Benin\n"
     ]
    }
   ],
   "source": [
    "def my_function(country = \"Nigeria\"):\n",
    "    print(\"I am from \" + country)\n",
    "\n",
    "my_function(\"Ghana\")\n",
    "my_function(\"Chad\")\n",
    "my_function()\n",
    "my_function(\"Benin\")"
   ]
  },
  {
   "cell_type": "code",
   "execution_count": 63,
   "id": "f05615ce",
   "metadata": {},
   "outputs": [
    {
     "name": "stdout",
     "output_type": "stream",
     "text": [
      "mazda\n",
      "nissan\n",
      "volvo\n"
     ]
    }
   ],
   "source": [
    "def my_function(cars):\n",
    "    for x in cars:\n",
    "        print(x)\n",
    "        \n",
    "cars = ['mazda', 'nissan', 'volvo']\n",
    "my_function(cars)"
   ]
  },
  {
   "cell_type": "code",
   "execution_count": 64,
   "id": "e95e6b81",
   "metadata": {},
   "outputs": [
    {
     "name": "stdout",
     "output_type": "stream",
     "text": [
      "15\n",
      "25\n",
      "35\n"
     ]
    }
   ],
   "source": [
    "def my_function(x):\n",
    "    return 5 * x\n",
    "print(my_function(3))\n",
    "print(my_function(5))\n",
    "print(my_function(7))"
   ]
  },
  {
   "cell_type": "code",
   "execution_count": 65,
   "id": "9d566f23",
   "metadata": {},
   "outputs": [
    {
     "name": "stdout",
     "output_type": "stream",
     "text": [
      "15\n"
     ]
    }
   ],
   "source": [
    "x = lambda a : a + 10\n",
    "print(x(5))"
   ]
  },
  {
   "cell_type": "code",
   "execution_count": 66,
   "id": "8d848a23",
   "metadata": {},
   "outputs": [
    {
     "name": "stdout",
     "output_type": "stream",
     "text": [
      "30\n"
     ]
    }
   ],
   "source": [
    "x = lambda a, b : a * b\n",
    "print(x(5, 6))"
   ]
  },
  {
   "cell_type": "code",
   "execution_count": 67,
   "id": "90cc732e",
   "metadata": {},
   "outputs": [
    {
     "name": "stdout",
     "output_type": "stream",
     "text": [
      "15\n"
     ]
    }
   ],
   "source": [
    "x = lambda a, b, c : a + b + c\n",
    "print(x(4, 5, 6))"
   ]
  },
  {
   "cell_type": "code",
   "execution_count": 71,
   "id": "2878601f",
   "metadata": {},
   "outputs": [
    {
     "name": "stdout",
     "output_type": "stream",
     "text": [
      "22\n"
     ]
    }
   ],
   "source": [
    "def my_func(n):\n",
    "    return lambda a : a * n\n",
    "\n",
    "mydoubler = my_func(2)\n",
    "\n",
    "print(mydoubler(11))"
   ]
  },
  {
   "cell_type": "code",
   "execution_count": 74,
   "id": "89df6b52",
   "metadata": {},
   "outputs": [
    {
     "name": "stdout",
     "output_type": "stream",
     "text": [
      "22\n",
      "33\n"
     ]
    }
   ],
   "source": [
    "def my_func(n):\n",
    "    return lambda a : a * n\n",
    "mydoubler = my_func(2)\n",
    "mytrippler = my_func(3)\n",
    "\n",
    "print(mydoubler(11))\n",
    "print(mytrippler(11))"
   ]
  },
  {
   "cell_type": "code",
   "execution_count": 75,
   "id": "85fb597e",
   "metadata": {},
   "outputs": [
    {
     "name": "stdout",
     "output_type": "stream",
     "text": [
      "['jeep', 'honda', 'ford', 'toyota', 'nissan', 'bmw']\n"
     ]
    }
   ],
   "source": [
    "cars  = ['jeep', 'honda', 'ford', 'toyota', 'nissan']\n",
    "cars.append('bmw')\n",
    "print(cars)"
   ]
  },
  {
   "cell_type": "code",
   "execution_count": 76,
   "id": "f21359cc",
   "metadata": {},
   "outputs": [
    {
     "name": "stdout",
     "output_type": "stream",
     "text": [
      "['jeep', 'honda', 'toyota', 'nissan', 'bmw']\n"
     ]
    }
   ],
   "source": [
    "cars.pop(2)\n",
    "print(cars)"
   ]
  },
  {
   "cell_type": "code",
   "execution_count": 78,
   "id": "8706bc44",
   "metadata": {},
   "outputs": [
    {
     "ename": "ValueError",
     "evalue": "2 is not in list",
     "output_type": "error",
     "traceback": [
      "\u001b[1;31m---------------------------------------------------------------------------\u001b[0m",
      "\u001b[1;31mValueError\u001b[0m                                Traceback (most recent call last)",
      "Cell \u001b[1;32mIn[78], line 1\u001b[0m\n\u001b[1;32m----> 1\u001b[0m \u001b[43mcars\u001b[49m\u001b[38;5;241;43m.\u001b[39;49m\u001b[43mindex\u001b[49m\u001b[43m(\u001b[49m\u001b[38;5;241;43m2\u001b[39;49m\u001b[43m)\u001b[49m\n\u001b[0;32m      2\u001b[0m \u001b[38;5;28mprint\u001b[39m(cars)\n",
      "\u001b[1;31mValueError\u001b[0m: 2 is not in list"
     ]
    }
   ],
   "source": [
    "cars.index(2)\n",
    "print(cars)"
   ]
  },
  {
   "cell_type": "code",
   "execution_count": 79,
   "id": "10e639c1",
   "metadata": {},
   "outputs": [
    {
     "name": "stdout",
     "output_type": "stream",
     "text": [
      "['jeep', 'honda', 'toyota', 'nissan', 'bmw']\n"
     ]
    }
   ],
   "source": [
    "print(cars)"
   ]
  },
  {
   "cell_type": "code",
   "execution_count": 80,
   "id": "40c55d64",
   "metadata": {},
   "outputs": [
    {
     "name": "stdout",
     "output_type": "stream",
     "text": [
      "jeep\n",
      "honda\n",
      "toyota\n",
      "nissan\n",
      "bmw\n"
     ]
    }
   ],
   "source": [
    "for x in cars:\n",
    "    print(x)"
   ]
  },
  {
   "cell_type": "code",
   "execution_count": 83,
   "id": "4d9e7335",
   "metadata": {},
   "outputs": [
    {
     "name": "stdout",
     "output_type": "stream",
     "text": [
      "Greg\n",
      "45\n"
     ]
    }
   ],
   "source": [
    "class Person:\n",
    "    def __init__(self, name, age):\n",
    "        self.name = name\n",
    "        self.age = age\n",
    "    \n",
    "p1 = Person('Greg', 45)\n",
    "print(p1.name)\n",
    "print(p1.age)"
   ]
  },
  {
   "cell_type": "code",
   "execution_count": 86,
   "id": "2e0830e4",
   "metadata": {},
   "outputs": [
    {
     "name": "stdout",
     "output_type": "stream",
     "text": [
      "Sean\n",
      "35\n"
     ]
    }
   ],
   "source": [
    "class Person:\n",
    "    def __init__(self, name, age):\n",
    "        self.name = name\n",
    "        self.age = age\n",
    "        \n",
    "    def __str__(self):\n",
    "        return f'{self.name}({self.age})'\n",
    "p1 = Person('Sean', 35)\n",
    "print(p1.name)\n",
    "print(p1.age)"
   ]
  },
  {
   "cell_type": "code",
   "execution_count": 91,
   "id": "533c02b4",
   "metadata": {},
   "outputs": [
    {
     "name": "stdout",
     "output_type": "stream",
     "text": [
      "Porshe\n",
      "Cayman\n"
     ]
    }
   ],
   "source": [
    "class Automobile:\n",
    "    def __init__(sillydog, brand, model):\n",
    "        sillydog.brand = brand\n",
    "        sillydog.model = model\n",
    "        \n",
    "c1 = Automobile('Porshe', 'Cayenne')\n",
    "c1.model = 'Cayman'\n",
    "print(c1.brand)\n",
    "print(c1.model)"
   ]
  },
  {
   "cell_type": "code",
   "execution_count": 100,
   "id": "9f0039da",
   "metadata": {},
   "outputs": [
    {
     "name": "stdout",
     "output_type": "stream",
     "text": [
      "This is my favorite brand, Lamboghini Diablo\n"
     ]
    }
   ],
   "source": [
    "class Automobile:\n",
    "    def __init__(slumdog, brand, model):\n",
    "        slumdog.brand = brand\n",
    "        slumdog.model = model\n",
    "\n",
    "c1 = Automobile('Lamboghini', 'Diablo')\n",
    "    \n",
    "formatted_string = f\"This is my favorite brand, {c1.brand} {c1.model}\"\n",
    "print(formatted_string)"
   ]
  },
  {
   "cell_type": "code",
   "execution_count": 102,
   "id": "46917314",
   "metadata": {},
   "outputs": [
    {
     "name": "stdout",
     "output_type": "stream",
     "text": [
      "This is my favorite brand Lamborghini Diablo\n"
     ]
    }
   ],
   "source": [
    "class Automobile:\n",
    "    def __init__(self, brand, model):\n",
    "        self.brand = brand\n",
    "        self.model = model\n",
    "\n",
    "c1 = Automobile('Lamborghini', 'Diablo')\n",
    "\n",
    "formatted_string = f\"This is my favorite brand {c1.brand} {c1.model}\"\n",
    "print(formatted_string)\n"
   ]
  },
  {
   "cell_type": "code",
   "execution_count": null,
   "id": "fa077d6f",
   "metadata": {},
   "outputs": [],
   "source": [
    "class AUTOS:\n",
    "    def __init__(\"gmc\", \"bmw\", \"jeep\", \"rover\", \"\")"
   ]
  }
 ],
 "metadata": {
  "kernelspec": {
   "display_name": "Python 3 (ipykernel)",
   "language": "python",
   "name": "python3"
  },
  "language_info": {
   "codemirror_mode": {
    "name": "ipython",
    "version": 3
   },
   "file_extension": ".py",
   "mimetype": "text/x-python",
   "name": "python",
   "nbconvert_exporter": "python",
   "pygments_lexer": "ipython3",
   "version": "3.10.9"
  }
 },
 "nbformat": 4,
 "nbformat_minor": 5
}
